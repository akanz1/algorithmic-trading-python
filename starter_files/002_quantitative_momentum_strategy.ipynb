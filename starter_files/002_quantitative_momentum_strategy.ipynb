{
 "cells": [
  {
   "cell_type": "markdown",
   "metadata": {},
   "source": [
    "# Quantitative Momentum Strategy\n",
    "\n",
    "\"Momentum investing\" means investing in the stocks that have increased in price the most.\n",
    "\n",
    "For this project, we're going to build an investing strategy that selects the 50 stocks with the highest price momentum. From there, we will calculate recommended trades for an equal-weight portfolio of these 50 stocks.\n",
    "\n",
    "\n",
    "## Library Imports\n",
    "\n",
    "The first thing we need to do is import the open-source software libraries that we'll be using in this tutorial."
   ]
  },
  {
   "cell_type": "code",
   "execution_count": 3,
   "metadata": {},
   "outputs": [],
   "source": [
    "import numpy as np\n",
    "import pandas as pd\n",
    "import requests\n",
    "import math\n",
    "from scipy import stats\n",
    "import xlsxwriter"
   ]
  },
  {
   "cell_type": "markdown",
   "metadata": {},
   "source": [
    "## Importing Our List of Stocks\n",
    "\n",
    "As before, we'll need to import our list of stocks and our API token before proceeding. Make sure the `.csv` file is still in your working directory and import it with the following command:"
   ]
  },
  {
   "cell_type": "code",
   "execution_count": 4,
   "metadata": {},
   "outputs": [],
   "source": [
    "stocks = pd.read_csv(\"sp_500_stocks.csv\")\n",
    "from secrets import IEX_CLOUD_API_TOKEN"
   ]
  },
  {
   "cell_type": "markdown",
   "metadata": {},
   "source": [
    "## Making Our First API Call\n",
    "\n",
    "It's now time to make the first version of our momentum screener!\n",
    "\n",
    "We need to get one-year price returns for each stock in the universe. Here's how."
   ]
  },
  {
   "cell_type": "code",
   "execution_count": 6,
   "metadata": {},
   "outputs": [
    {
     "output_type": "execute_result",
     "data": {
      "text/plain": [
       "{'companyName': 'Apple Inc',\n",
       " 'marketcap': 2288096935300,\n",
       " 'week52high': 139.07,\n",
       " 'week52low': 57.66,\n",
       " 'week52change': 0.8860576598422052,\n",
       " 'sharesOutstanding': 17811312775,\n",
       " 'float': 0,\n",
       " 'avg10Volume': 134064700,\n",
       " 'avg30Volume': 111353608,\n",
       " 'day200MovingAvg': 115.54,\n",
       " 'day50MovingAvg': 126.96,\n",
       " 'employees': 0,\n",
       " 'ttmEPS': 3.3,\n",
       " 'ttmDividendRate': 0.8375133682227506,\n",
       " 'dividendYield': 0.0063522126435616826,\n",
       " 'nextDividendDate': '0',\n",
       " 'exDividendDate': '2020-10-23',\n",
       " 'nextEarningsDate': '0',\n",
       " 'peRatio': 39.26658555605837,\n",
       " 'beta': 1.1697307364367506,\n",
       " 'maxChangePercent': 49.76399466500338,\n",
       " 'year5ChangePercent': 4.389492078139312,\n",
       " 'year2ChangePercent': 2.6514552232229835,\n",
       " 'year1ChangePercent': 0.9230067984748489,\n",
       " 'ytdChangePercent': 0.8275425139098025,\n",
       " 'month6ChangePercent': 0.4934732189288344,\n",
       " 'month3ChangePercent': 0.1903542272341336,\n",
       " 'month1ChangePercent': 0.12873733795075867,\n",
       " 'day30ChangePercent': 0.12475318200210309,\n",
       " 'day5ChangePercent': 0.0327222480448629}"
      ]
     },
     "metadata": {},
     "execution_count": 6
    }
   ],
   "source": [
    "symbol = \"AAPL\"\n",
    "api_url = f\"https://sandbox.iexapis.com/stable/stock/{symbol}/stats?token={IEX_CLOUD_API_TOKEN}\"\n",
    "data = requests.get(api_url)\n",
    "assert(data.status_code == 200)\n",
    "data = data.json()\n",
    "data"
   ]
  },
  {
   "cell_type": "markdown",
   "metadata": {},
   "source": [
    "## Parsing Our API Call\n",
    "\n",
    "This API call has all the information we need. We can parse it using the same square-bracket notation as in the first project of this course. Here is an example."
   ]
  },
  {
   "cell_type": "code",
   "execution_count": 7,
   "metadata": {},
   "outputs": [
    {
     "output_type": "execute_result",
     "data": {
      "text/plain": [
       "0.9230067984748489"
      ]
     },
     "metadata": {},
     "execution_count": 7
    }
   ],
   "source": [
    "data[\"year1ChangePercent\"]"
   ]
  },
  {
   "cell_type": "markdown",
   "metadata": {},
   "source": [
    "## Executing A Batch API Call & Building Our DataFrame\n",
    "\n",
    "Just like in our first project, it's now time to execute several batch API calls and add the information we need to our DataFrame.\n",
    "\n",
    "We'll start by running the following code cell, which contains some code we already built last time that we can re-use for this project. More specifically, it contains a function called `chunks` that we can use to divide our list of securities into groups of 100."
   ]
  },
  {
   "cell_type": "code",
   "execution_count": 11,
   "metadata": {},
   "outputs": [],
   "source": [
    "def chunks_generator(lst, n):\n",
    "    for i in range(0, len(lst), n):\n",
    "        yield lst[i:i + n]\n",
    "        \n",
    "symbol_groups = list(chunks_generator(stocks[\"Ticker\"], 100))\n",
    "symbol_strings = [\",\".join(symbol_groups[i]) for i in range(len(symbol_groups))]\n",
    "\n",
    "cols = [\"ticker\", \"stock_price\", \"one_year_return\", \"num_of_shares_to_buy\"]"
   ]
  },
  {
   "cell_type": "markdown",
   "metadata": {},
   "source": [
    "Now we need to create a blank DataFrame and add our data to the data frame one-by-one."
   ]
  },
  {
   "cell_type": "code",
   "execution_count": 25,
   "metadata": {},
   "outputs": [],
   "source": [
    "df = pd.DataFrame(columns=cols)\n",
    "\n",
    "for symbol_string in symbol_strings[:1]:\n",
    "    batch_request_url = f\"https://sandbox.iexapis.com/stable/stock/market/batch?symbols={symbol_string}&types=price,stats&token={IEX_CLOUD_API_TOKEN}\"\n",
    "    data = requests.get(batch_request_url)\n",
    "    assert(data.status_code == 200)\n",
    "    data = data.json()\n",
    "    for symbol in symbol_string.split(\",\"):\n",
    "        df = df.append(pd.Series(\n",
    "            [\n",
    "                symbol,\n",
    "                data[symbol][\"price\"],\n",
    "                data[symbol][\"stats\"][\"year1ChangePercent\"],\n",
    "                pd.NA\n",
    "            ], index=cols\n",
    "        ), ignore_index=True)"
   ]
  },
  {
   "cell_type": "markdown",
   "metadata": {},
   "source": [
    "## Removing Low-Momentum Stocks\n",
    "\n",
    "The investment strategy that we're building seeks to identify the 50 highest-momentum stocks in the S&P 500.\n",
    "\n",
    "Because of this, the next thing we need to do is remove all the stocks in our DataFrame that fall below this momentum threshold. We'll sort the DataFrame by the stocks' one-year price return, and drop all stocks outside the top 50.\n"
   ]
  },
  {
   "cell_type": "code",
   "execution_count": 27,
   "metadata": {},
   "outputs": [
    {
     "output_type": "execute_result",
     "data": {
      "text/plain": [
       "  ticker  stock_price  one_year_return num_of_shares_to_buy\n",
       "0   CARR        39.02         2.214827                 <NA>\n",
       "1    ALB       146.57         1.125326                 <NA>\n",
       "2    AMD        94.17         1.120245                 <NA>\n",
       "3   ALGN       551.82         0.980033                 <NA>\n",
       "4   CDNS       139.90         0.946120                 <NA>"
      ],
      "text/html": "<div>\n<style scoped>\n    .dataframe tbody tr th:only-of-type {\n        vertical-align: middle;\n    }\n\n    .dataframe tbody tr th {\n        vertical-align: top;\n    }\n\n    .dataframe thead th {\n        text-align: right;\n    }\n</style>\n<table border=\"1\" class=\"dataframe\">\n  <thead>\n    <tr style=\"text-align: right;\">\n      <th></th>\n      <th>ticker</th>\n      <th>stock_price</th>\n      <th>one_year_return</th>\n      <th>num_of_shares_to_buy</th>\n    </tr>\n  </thead>\n  <tbody>\n    <tr>\n      <th>0</th>\n      <td>CARR</td>\n      <td>39.02</td>\n      <td>2.214827</td>\n      <td>&lt;NA&gt;</td>\n    </tr>\n    <tr>\n      <th>1</th>\n      <td>ALB</td>\n      <td>146.57</td>\n      <td>1.125326</td>\n      <td>&lt;NA&gt;</td>\n    </tr>\n    <tr>\n      <th>2</th>\n      <td>AMD</td>\n      <td>94.17</td>\n      <td>1.120245</td>\n      <td>&lt;NA&gt;</td>\n    </tr>\n    <tr>\n      <th>3</th>\n      <td>ALGN</td>\n      <td>551.82</td>\n      <td>0.980033</td>\n      <td>&lt;NA&gt;</td>\n    </tr>\n    <tr>\n      <th>4</th>\n      <td>CDNS</td>\n      <td>139.90</td>\n      <td>0.946120</td>\n      <td>&lt;NA&gt;</td>\n    </tr>\n  </tbody>\n</table>\n</div>"
     },
     "metadata": {},
     "execution_count": 27
    }
   ],
   "source": [
    "df.sort_values(\"one_year_return\", ascending=False, inplace=True)\n",
    "df = df.iloc[:50,:].reset_index(drop=True)\n",
    "df.head()"
   ]
  },
  {
   "cell_type": "markdown",
   "metadata": {},
   "source": [
    "## Calculating the Number of Shares to Buy\n",
    "\n",
    "Just like in the last project, we now need to calculate the number of shares we need to buy. The one change we're going to make is wrapping this functionality inside a function, since we'll be using it again later in this Jupyter Notebook.\n",
    "\n",
    "Since we've already done most of the work on this, try to complete the following two code cells without watching me do it first!"
   ]
  },
  {
   "cell_type": "code",
   "execution_count": 34,
   "metadata": {},
   "outputs": [],
   "source": [
    "portfolio_size = 1_000_000\n",
    "position_size = portfolio_size / len(df.index)\n",
    "\n",
    "for i in range(len(df)):\n",
    "    df.loc[i, \"num_of_shares_to_buy\"] = math.floor(position_size/df.loc[i, \"stock_price\"])"
   ]
  },
  {
   "cell_type": "markdown",
   "metadata": {},
   "source": [
    "## Building a Better (and More Realistic) Momentum Strategy\n",
    "\n",
    "Real-world quantitative investment firms differentiate between \"high quality\" and \"low quality\" momentum stocks:\n",
    "\n",
    "* High-quality momentum stocks show \"slow and steady\" outperformance over long periods of time\n",
    "* Low-quality momentum stocks might not show any momentum for a long time, and then surge upwards.\n",
    "\n",
    "The reason why high-quality momentum stocks are preferred is because low-quality momentum can often be caused by short-term news that is unlikely to be repeated in the future (such as an FDA approval for a biotechnology company).\n",
    "\n",
    "To identify high-quality momentum, we're going to build a strategy that selects stocks from the highest percentiles of: \n",
    "\n",
    "* 1-month price returns\n",
    "* 3-month price returns\n",
    "* 6-month price returns\n",
    "* 1-year price returns\n",
    "\n",
    "Let's start by building our DataFrame. You'll notice that I use the abbreviation `hqm` often. It stands for `high-quality momentum`."
   ]
  },
  {
   "cell_type": "code",
   "execution_count": 61,
   "metadata": {},
   "outputs": [],
   "source": [
    "hqm_cols = [\n",
    "    \"ticker\", \n",
    "    \"stock_price\", \n",
    "    \"num_of_shares_to_buy\", \n",
    "    \"one_year_return\", \n",
    "    \"one_year_return_percentile\", \n",
    "    \"six_month_return\", \n",
    "    \"six_month_return_percentile\", \n",
    "    \"three_month_return\", \n",
    "    \"three_month_return_percentile\", \n",
    "    \"one_month_return\", \n",
    "    \"one_month_return_percentile\"\n",
    "    ]\n",
    "\n",
    "hqm_df = pd.DataFrame(columns=hqm_cols)\n",
    "\n",
    "for symbol_string in symbol_strings:\n",
    "    batch_request_url = f\"https://sandbox.iexapis.com/stable/stock/market/batch?symbols={symbol_string}&types=price,stats&token={IEX_CLOUD_API_TOKEN}\"\n",
    "    data = requests.get(batch_request_url)\n",
    "    assert(data.status_code == 200)\n",
    "    data = data.json()\n",
    "    for symbol in symbol_string.split(\",\"):\n",
    "        hqm_df = hqm_df.append(\n",
    "            pd.Series(\n",
    "                [\n",
    "                    symbol, \n",
    "                    data[symbol][\"price\"], \n",
    "                    pd.NA, \n",
    "                    data[symbol][\"stats\"][\"year1ChangePercent\"], \n",
    "                    pd.NA, \n",
    "                    data[symbol][\"stats\"][\"month6ChangePercent\"],\n",
    "                    pd.NA, \n",
    "                    data[symbol][\"stats\"][\"month3ChangePercent\"],\n",
    "                    pd.NA, \n",
    "                    data[symbol][\"stats\"][\"month1ChangePercent\"],\n",
    "                    pd.NA\n",
    "                ], \n",
    "                index=hqm_cols\n",
    "            ), \n",
    "            ignore_index=True\n",
    "        )"
   ]
  },
  {
   "cell_type": "code",
   "execution_count": 75,
   "metadata": {},
   "outputs": [],
   "source": [
    "hqm_df = hqm_df.dropna(subset=[\"one_year_return\"])  # dropping outdated stocks"
   ]
  },
  {
   "cell_type": "markdown",
   "metadata": {},
   "source": [
    "## Calculating Momentum Percentiles\n",
    "\n",
    "We now need to calculate momentum percentile scores for every stock in the universe. More specifically, we need to calculate percentile scores for the following metrics for every stock:\n",
    "\n",
    "* `One-Year Price Return`\n",
    "* `Six-Month Price Return`\n",
    "* `Three-Month Price Return`\n",
    "* `One-Month Price Return`\n",
    "\n",
    "Here's how we'll do this:"
   ]
  },
  {
   "cell_type": "code",
   "execution_count": 79,
   "metadata": {},
   "outputs": [
    {
     "output_type": "execute_result",
     "data": {
      "text/plain": [
       "    ticker  stock_price num_of_shares_to_buy one_year_return  \\\n",
       "0        A       118.18                 <NA>        0.392388   \n",
       "1      AAL        15.59                 <NA>       -0.468088   \n",
       "2      AAP       162.50                 <NA>       0.0161435   \n",
       "3     AAPL       137.55                 <NA>         0.94308   \n",
       "4     ABBV       104.90                 <NA>        0.220939   \n",
       "..     ...          ...                  ...             ...   \n",
       "500    YUM       110.60                 <NA>       0.0883427   \n",
       "501    ZBH       156.65                 <NA>       0.0118515   \n",
       "502   ZBRA       380.55                 <NA>         0.51966   \n",
       "503   ZION        42.54                 <NA>       -0.157061   \n",
       "504    ZTS       167.46                 <NA>        0.230086   \n",
       "\n",
       "    one_year_return_percentile six_month_return six_month_return_percentile  \\\n",
       "0                      85.2295         0.338075                     73.0539   \n",
       "1                      2.19561        0.0390338                     18.9621   \n",
       "2                      42.7146        0.0548267                     21.9561   \n",
       "3                      98.2036         0.483337                     89.4212   \n",
       "4                      69.8603        0.0869137                     26.9461   \n",
       "..                         ...              ...                         ...   \n",
       "500                    52.6946         0.237618                     56.0878   \n",
       "501                    41.7166         0.222843                     54.2914   \n",
       "502                     92.016         0.460465                     87.6248   \n",
       "503                    20.7585         0.200718                     49.9002   \n",
       "504                    70.8583          0.18648                      44.511   \n",
       "\n",
       "    three_month_return three_month_return_percentile one_month_return  \\\n",
       "0             0.200838                       60.6786        0.0604167   \n",
       "1             0.258425                       73.4531          0.24288   \n",
       "2            0.0645194                       27.3453         0.106284   \n",
       "3              0.18754                        56.487         0.129748   \n",
       "4             0.180693                       55.0898          0.01966   \n",
       "..                 ...                           ...              ...   \n",
       "500           0.199882                        60.479        0.0279926   \n",
       "501            0.11689                       40.1198        0.0344947   \n",
       "502           0.509608                       95.6088        0.0733499   \n",
       "503           0.486841                       94.6108        0.0999005   \n",
       "504         0.00328925                       13.3733       -0.0265566   \n",
       "\n",
       "    one_month_return_percentile  \n",
       "0                       66.2675  \n",
       "1                       98.2036  \n",
       "2                       83.8323  \n",
       "3                       88.4232  \n",
       "4                       44.9102  \n",
       "..                          ...  \n",
       "500                      49.501  \n",
       "501                     53.6926  \n",
       "502                     72.6547  \n",
       "503                     81.8363  \n",
       "504                     16.5669  \n",
       "\n",
       "[501 rows x 11 columns]"
      ],
      "text/html": "<div>\n<style scoped>\n    .dataframe tbody tr th:only-of-type {\n        vertical-align: middle;\n    }\n\n    .dataframe tbody tr th {\n        vertical-align: top;\n    }\n\n    .dataframe thead th {\n        text-align: right;\n    }\n</style>\n<table border=\"1\" class=\"dataframe\">\n  <thead>\n    <tr style=\"text-align: right;\">\n      <th></th>\n      <th>ticker</th>\n      <th>stock_price</th>\n      <th>num_of_shares_to_buy</th>\n      <th>one_year_return</th>\n      <th>one_year_return_percentile</th>\n      <th>six_month_return</th>\n      <th>six_month_return_percentile</th>\n      <th>three_month_return</th>\n      <th>three_month_return_percentile</th>\n      <th>one_month_return</th>\n      <th>one_month_return_percentile</th>\n    </tr>\n  </thead>\n  <tbody>\n    <tr>\n      <th>0</th>\n      <td>A</td>\n      <td>118.18</td>\n      <td>&lt;NA&gt;</td>\n      <td>0.392388</td>\n      <td>85.2295</td>\n      <td>0.338075</td>\n      <td>73.0539</td>\n      <td>0.200838</td>\n      <td>60.6786</td>\n      <td>0.0604167</td>\n      <td>66.2675</td>\n    </tr>\n    <tr>\n      <th>1</th>\n      <td>AAL</td>\n      <td>15.59</td>\n      <td>&lt;NA&gt;</td>\n      <td>-0.468088</td>\n      <td>2.19561</td>\n      <td>0.0390338</td>\n      <td>18.9621</td>\n      <td>0.258425</td>\n      <td>73.4531</td>\n      <td>0.24288</td>\n      <td>98.2036</td>\n    </tr>\n    <tr>\n      <th>2</th>\n      <td>AAP</td>\n      <td>162.50</td>\n      <td>&lt;NA&gt;</td>\n      <td>0.0161435</td>\n      <td>42.7146</td>\n      <td>0.0548267</td>\n      <td>21.9561</td>\n      <td>0.0645194</td>\n      <td>27.3453</td>\n      <td>0.106284</td>\n      <td>83.8323</td>\n    </tr>\n    <tr>\n      <th>3</th>\n      <td>AAPL</td>\n      <td>137.55</td>\n      <td>&lt;NA&gt;</td>\n      <td>0.94308</td>\n      <td>98.2036</td>\n      <td>0.483337</td>\n      <td>89.4212</td>\n      <td>0.18754</td>\n      <td>56.487</td>\n      <td>0.129748</td>\n      <td>88.4232</td>\n    </tr>\n    <tr>\n      <th>4</th>\n      <td>ABBV</td>\n      <td>104.90</td>\n      <td>&lt;NA&gt;</td>\n      <td>0.220939</td>\n      <td>69.8603</td>\n      <td>0.0869137</td>\n      <td>26.9461</td>\n      <td>0.180693</td>\n      <td>55.0898</td>\n      <td>0.01966</td>\n      <td>44.9102</td>\n    </tr>\n    <tr>\n      <th>...</th>\n      <td>...</td>\n      <td>...</td>\n      <td>...</td>\n      <td>...</td>\n      <td>...</td>\n      <td>...</td>\n      <td>...</td>\n      <td>...</td>\n      <td>...</td>\n      <td>...</td>\n      <td>...</td>\n    </tr>\n    <tr>\n      <th>500</th>\n      <td>YUM</td>\n      <td>110.60</td>\n      <td>&lt;NA&gt;</td>\n      <td>0.0883427</td>\n      <td>52.6946</td>\n      <td>0.237618</td>\n      <td>56.0878</td>\n      <td>0.199882</td>\n      <td>60.479</td>\n      <td>0.0279926</td>\n      <td>49.501</td>\n    </tr>\n    <tr>\n      <th>501</th>\n      <td>ZBH</td>\n      <td>156.65</td>\n      <td>&lt;NA&gt;</td>\n      <td>0.0118515</td>\n      <td>41.7166</td>\n      <td>0.222843</td>\n      <td>54.2914</td>\n      <td>0.11689</td>\n      <td>40.1198</td>\n      <td>0.0344947</td>\n      <td>53.6926</td>\n    </tr>\n    <tr>\n      <th>502</th>\n      <td>ZBRA</td>\n      <td>380.55</td>\n      <td>&lt;NA&gt;</td>\n      <td>0.51966</td>\n      <td>92.016</td>\n      <td>0.460465</td>\n      <td>87.6248</td>\n      <td>0.509608</td>\n      <td>95.6088</td>\n      <td>0.0733499</td>\n      <td>72.6547</td>\n    </tr>\n    <tr>\n      <th>503</th>\n      <td>ZION</td>\n      <td>42.54</td>\n      <td>&lt;NA&gt;</td>\n      <td>-0.157061</td>\n      <td>20.7585</td>\n      <td>0.200718</td>\n      <td>49.9002</td>\n      <td>0.486841</td>\n      <td>94.6108</td>\n      <td>0.0999005</td>\n      <td>81.8363</td>\n    </tr>\n    <tr>\n      <th>504</th>\n      <td>ZTS</td>\n      <td>167.46</td>\n      <td>&lt;NA&gt;</td>\n      <td>0.230086</td>\n      <td>70.8583</td>\n      <td>0.18648</td>\n      <td>44.511</td>\n      <td>0.00328925</td>\n      <td>13.3733</td>\n      <td>-0.0265566</td>\n      <td>16.5669</td>\n    </tr>\n  </tbody>\n</table>\n<p>501 rows × 11 columns</p>\n</div>"
     },
     "metadata": {},
     "execution_count": 79
    }
   ],
   "source": [
    "time_periods = [\n",
    "    'one_year',\n",
    "    'six_month',\n",
    "    'three_month',\n",
    "    'one_month'\n",
    "]\n",
    "\n",
    "for row in hqm_df.index:\n",
    "    for time_period in time_periods:\n",
    "        return_col = f\"{time_period}_return\"\n",
    "        percentile_col = f\"{time_period}_return_percentile\"\n",
    "        hqm_df.loc[row, percentile_col] = stats.percentileofscore(hqm_df[return_col], hqm_df.loc[row, return_col])\n",
    "hqm_df"
   ]
  },
  {
   "cell_type": "markdown",
   "metadata": {},
   "source": [
    "## Calculating the HQM Score\n",
    "\n",
    "We'll now calculate our `HQM Score`, which is the high-quality momentum score that we'll use to filter for stocks in this investing strategy.\n",
    "\n",
    "The `HQM Score` will be the arithmetic mean of the 4 momentum percentile scores that we calculated in the last section.\n",
    "\n",
    "To calculate arithmetic mean, we will use the `mean` function from Python's built-in `statistics` module."
   ]
  },
  {
   "cell_type": "code",
   "execution_count": null,
   "metadata": {},
   "outputs": [],
   "source": []
  },
  {
   "cell_type": "markdown",
   "metadata": {},
   "source": [
    "## Selecting the 50 Best Momentum Stocks\n",
    "\n",
    "As before, we can identify the 50 best momentum stocks in our universe by sorting the DataFrame on the `HQM Score` column and dropping all but the top 50 entries."
   ]
  },
  {
   "cell_type": "code",
   "execution_count": null,
   "metadata": {},
   "outputs": [],
   "source": []
  },
  {
   "cell_type": "markdown",
   "metadata": {},
   "source": [
    "## Calculating the Number of Shares to Buy\n",
    "\n",
    "We'll use the `portfolio_input` function that we created earlier to accept our portfolio size. Then we will use similar logic in a `for` loop to calculate the number of shares to buy for each stock in our investment universe."
   ]
  },
  {
   "cell_type": "code",
   "execution_count": null,
   "metadata": {},
   "outputs": [],
   "source": []
  },
  {
   "cell_type": "code",
   "execution_count": null,
   "metadata": {},
   "outputs": [],
   "source": []
  },
  {
   "cell_type": "markdown",
   "metadata": {},
   "source": [
    "## Formatting Our Excel Output\n",
    "\n",
    "We will be using the XlsxWriter library for Python to create nicely-formatted Excel files.\n",
    "\n",
    "XlsxWriter is an excellent package and offers tons of customization. However, the tradeoff for this is that the library can seem very complicated to new users. Accordingly, this section will be fairly long because I want to do a good job of explaining how XlsxWriter works."
   ]
  },
  {
   "cell_type": "code",
   "execution_count": null,
   "metadata": {},
   "outputs": [],
   "source": []
  },
  {
   "cell_type": "markdown",
   "metadata": {},
   "source": [
    "## Creating the Formats We'll Need For Our .xlsx File\n",
    "\n",
    "You'll recall from our first project that formats include colors, fonts, and also symbols like % and $. We'll need four main formats for our Excel document:\n",
    "\n",
    "* String format for tickers\n",
    "* \\$XX.XX format for stock prices\n",
    "* \\$XX,XXX format for market capitalization\n",
    "* Integer format for the number of shares to purchase\n",
    "\n",
    "Since we already built our formats in the last section of this course, I've included them below for you. Run this code cell before proceeding."
   ]
  },
  {
   "cell_type": "code",
   "execution_count": null,
   "metadata": {},
   "outputs": [],
   "source": [
    "background_color = '#0a0a23'\n",
    "font_color = '#ffffff'\n",
    "\n",
    "string_template = writer.book.add_format(\n",
    "        {\n",
    "            'font_color': font_color,\n",
    "            'bg_color': background_color,\n",
    "            'border': 1\n",
    "        }\n",
    "    )\n",
    "\n",
    "dollar_template = writer.book.add_format(\n",
    "        {\n",
    "            'num_format':'$0.00',\n",
    "            'font_color': font_color,\n",
    "            'bg_color': background_color,\n",
    "            'border': 1\n",
    "        }\n",
    "    )\n",
    "\n",
    "integer_template = writer.book.add_format(\n",
    "        {\n",
    "            'num_format':'0',\n",
    "            'font_color': font_color,\n",
    "            'bg_color': background_color,\n",
    "            'border': 1\n",
    "        }\n",
    "    )\n",
    "\n",
    "percent_template = writer.book.add_format(\n",
    "        {\n",
    "            'num_format':'0.0%',\n",
    "            'font_color': font_color,\n",
    "            'bg_color': background_color,\n",
    "            'border': 1\n",
    "        }\n",
    "    )"
   ]
  },
  {
   "cell_type": "code",
   "execution_count": null,
   "metadata": {},
   "outputs": [],
   "source": []
  },
  {
   "cell_type": "markdown",
   "metadata": {},
   "source": [
    "## Saving Our Excel Output\n",
    "\n",
    "As before, saving our Excel output is very easy:"
   ]
  },
  {
   "cell_type": "code",
   "execution_count": null,
   "metadata": {},
   "outputs": [],
   "source": []
  }
 ],
 "metadata": {
  "kernelspec": {
   "display_name": "Python 3",
   "language": "python",
   "name": "python3"
  },
  "language_info": {
   "codemirror_mode": {
    "name": "ipython",
    "version": 3
   },
   "file_extension": ".py",
   "mimetype": "text/x-python",
   "name": "python",
   "nbconvert_exporter": "python",
   "pygments_lexer": "ipython3",
   "version": "3.9.1-final"
  }
 },
 "nbformat": 4,
 "nbformat_minor": 4
}