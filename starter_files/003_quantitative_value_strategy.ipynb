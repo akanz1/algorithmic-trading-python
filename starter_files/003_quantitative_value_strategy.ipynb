{
 "cells": [
  {
   "cell_type": "markdown",
   "metadata": {},
   "source": [
    "# Quantitative Value Strategy\n",
    "\"Value investing\" means investing in the stocks that are cheapest relative to common measures of business value (like earnings or assets).\n",
    "\n",
    "For this project, we're going to build an investing strategy that selects the 50 stocks with the best value metrics. From there, we will calculate recommended trades for an equal-weight portfolio of these 50 stocks.\n",
    "\n",
    "## Library Imports\n",
    "The first thing we need to do is import the open-source software libraries that we'll be using in this tutorial."
   ]
  },
  {
   "cell_type": "code",
   "execution_count": 1,
   "metadata": {},
   "outputs": [],
   "source": [
    "import pandas as pd\n",
    "import numpy as np\n",
    "import requests\n",
    "import xlsxwriter\n",
    "from scipy import stats\n",
    "import math"
   ]
  },
  {
   "cell_type": "markdown",
   "metadata": {},
   "source": [
    "## Importing Our List of Stocks & API Token\n",
    "As before, we'll need to import our list of stocks and our API token before proceeding. Make sure the .csv file is still in your working directory and import it with the following command:"
   ]
  },
  {
   "cell_type": "code",
   "execution_count": 2,
   "metadata": {},
   "outputs": [],
   "source": [
    "stocks = pd.read_csv(\"sp_500_stocks.csv\")\n",
    "from secrets import IEX_CLOUD_API_TOKEN"
   ]
  },
  {
   "cell_type": "markdown",
   "metadata": {},
   "source": [
    "## Making Our First API Call\n",
    "It's now time to make the first version of our value screener!\n",
    "\n",
    "We'll start by building a simple value screener that ranks securities based on a single metric (the price-to-earnings ratio)."
   ]
  },
  {
   "cell_type": "code",
   "execution_count": 6,
   "metadata": {},
   "outputs": [],
   "source": [
    "symbol = 'AAPL'\n",
    "api_url = f\"https://sandbox.iexapis.com/stable/stock/{symbol}/quote/?token={IEX_CLOUD_API_TOKEN}\" \n",
    "data = requests.get(api_url)\n",
    "assert(data.status_code == 200)\n",
    "data = data.json()"
   ]
  },
  {
   "cell_type": "markdown",
   "metadata": {},
   "source": [
    "## Parsing Our API Call\n",
    "This API call has the metric we need - the price-to-earnings ratio.\n",
    "\n",
    "Here is an example of how to parse the metric from our API call:"
   ]
  },
  {
   "cell_type": "code",
   "execution_count": 10,
   "metadata": {},
   "outputs": [],
   "source": [
    "pe_ratio = data[\"peRatio\"]\n",
    "stock_price = data[\"latestPrice\"]"
   ]
  },
  {
   "cell_type": "markdown",
   "metadata": {},
   "source": [
    "## Executing A Batch API Call & Building Our DataFrame\n",
    "\n",
    "Just like in our first project, it's now time to execute several batch API calls and add the information we need to our DataFrame.\n",
    "\n",
    "We'll start by running the following code cell, which contains some code we already built last time that we can re-use for this project. More specifically, it contains a function called chunks that we can use to divide our list of securities into groups of 100."
   ]
  },
  {
   "cell_type": "code",
   "execution_count": 26,
   "metadata": {},
   "outputs": [],
   "source": [
    "def chunks_generator(lst, n):\n",
    "    for i in range(0, len(lst), n):\n",
    "        yield lst[i:i + n]\n",
    "        \n",
    "symbol_groups = list(chunks_generator(stocks[\"Ticker\"], 100))\n",
    "symbol_strings = [\",\".join(symbol_groups[i]) for i in range(len(symbol_groups))]\n",
    "\n",
    "cols = [\"ticker\", \"stock_price\", \"pe_ratio\", \"num_of_shares_to_buy\"]\n",
    "df = pd.DataFrame(columns=cols)\n",
    "for symbol_string in symbol_strings:\n",
    "    batch_request_url = f\"https://sandbox.iexapis.com/stable/stock/market/batch?symbols={symbol_string}&types=quote&token={IEX_CLOUD_API_TOKEN}\"\n",
    "    data = requests.get(batch_request_url)\n",
    "    assert(data.status_code == 200)\n",
    "    data = data.json()\n",
    "    for symbol in symbol_string.split(\",\"):\n",
    "        df = df.append(pd.Series(\n",
    "            [\n",
    "                symbol, \n",
    "                data[symbol]['quote']['latestPrice'],\n",
    "                data[symbol]['quote']['peRatio'],\n",
    "                pd.NA\n",
    "            ], \n",
    "            index=cols), \n",
    "        ignore_index=True)"
   ]
  },
  {
   "cell_type": "code",
   "execution_count": 31,
   "metadata": {},
   "outputs": [
    {
     "output_type": "execute_result",
     "data": {
      "text/plain": [
       "  ticker  stock_price pe_ratio num_of_shares_to_buy\n",
       "0      A      122.810    54.73                 <NA>\n",
       "1    AAL       16.403    -1.18                 <NA>\n",
       "2    AAP      166.680     24.2                 <NA>\n",
       "3   AAPL      136.010    40.65                 <NA>\n",
       "4   ABBV      104.160    23.67                 <NA>"
      ],
      "text/html": "<div>\n<style scoped>\n    .dataframe tbody tr th:only-of-type {\n        vertical-align: middle;\n    }\n\n    .dataframe tbody tr th {\n        vertical-align: top;\n    }\n\n    .dataframe thead th {\n        text-align: right;\n    }\n</style>\n<table border=\"1\" class=\"dataframe\">\n  <thead>\n    <tr style=\"text-align: right;\">\n      <th></th>\n      <th>ticker</th>\n      <th>stock_price</th>\n      <th>pe_ratio</th>\n      <th>num_of_shares_to_buy</th>\n    </tr>\n  </thead>\n  <tbody>\n    <tr>\n      <th>0</th>\n      <td>A</td>\n      <td>122.810</td>\n      <td>54.73</td>\n      <td>&lt;NA&gt;</td>\n    </tr>\n    <tr>\n      <th>1</th>\n      <td>AAL</td>\n      <td>16.403</td>\n      <td>-1.18</td>\n      <td>&lt;NA&gt;</td>\n    </tr>\n    <tr>\n      <th>2</th>\n      <td>AAP</td>\n      <td>166.680</td>\n      <td>24.2</td>\n      <td>&lt;NA&gt;</td>\n    </tr>\n    <tr>\n      <th>3</th>\n      <td>AAPL</td>\n      <td>136.010</td>\n      <td>40.65</td>\n      <td>&lt;NA&gt;</td>\n    </tr>\n    <tr>\n      <th>4</th>\n      <td>ABBV</td>\n      <td>104.160</td>\n      <td>23.67</td>\n      <td>&lt;NA&gt;</td>\n    </tr>\n  </tbody>\n</table>\n</div>"
     },
     "metadata": {},
     "execution_count": 31
    }
   ],
   "source": [
    "df.head()"
   ]
  },
  {
   "cell_type": "markdown",
   "metadata": {},
   "source": [
    "## Removing Glamour Stocks\n",
    "\n",
    "The opposite of a \"value stock\" is a \"glamour stock\". \n",
    "\n",
    "Since the goal of this strategy is to identify the 50 best value stocks from our universe, our next step is to remove glamour stocks from the DataFrame.\n",
    "\n",
    "We'll sort the DataFrame by the stocks' price-to-earnings ratio, and drop all stocks outside the top 50."
   ]
  },
  {
   "cell_type": "code",
   "execution_count": 37,
   "metadata": {},
   "outputs": [
    {
     "output_type": "execute_result",
     "data": {
      "text/plain": [
       "  ticker  stock_price pe_ratio num_of_shares_to_buy\n",
       "0    NRG       36.790      2.1                 <NA>\n",
       "1   NLOK       21.534     4.23                 <NA>\n",
       "2    UNM       22.551     4.84                 <NA>\n",
       "3    BIO      588.020      5.2                 <NA>\n",
       "4    AIV        5.177      5.2                 <NA>"
      ],
      "text/html": "<div>\n<style scoped>\n    .dataframe tbody tr th:only-of-type {\n        vertical-align: middle;\n    }\n\n    .dataframe tbody tr th {\n        vertical-align: top;\n    }\n\n    .dataframe thead th {\n        text-align: right;\n    }\n</style>\n<table border=\"1\" class=\"dataframe\">\n  <thead>\n    <tr style=\"text-align: right;\">\n      <th></th>\n      <th>ticker</th>\n      <th>stock_price</th>\n      <th>pe_ratio</th>\n      <th>num_of_shares_to_buy</th>\n    </tr>\n  </thead>\n  <tbody>\n    <tr>\n      <th>0</th>\n      <td>NRG</td>\n      <td>36.790</td>\n      <td>2.1</td>\n      <td>&lt;NA&gt;</td>\n    </tr>\n    <tr>\n      <th>1</th>\n      <td>NLOK</td>\n      <td>21.534</td>\n      <td>4.23</td>\n      <td>&lt;NA&gt;</td>\n    </tr>\n    <tr>\n      <th>2</th>\n      <td>UNM</td>\n      <td>22.551</td>\n      <td>4.84</td>\n      <td>&lt;NA&gt;</td>\n    </tr>\n    <tr>\n      <th>3</th>\n      <td>BIO</td>\n      <td>588.020</td>\n      <td>5.2</td>\n      <td>&lt;NA&gt;</td>\n    </tr>\n    <tr>\n      <th>4</th>\n      <td>AIV</td>\n      <td>5.177</td>\n      <td>5.2</td>\n      <td>&lt;NA&gt;</td>\n    </tr>\n  </tbody>\n</table>\n</div>"
     },
     "metadata": {},
     "execution_count": 37
    }
   ],
   "source": [
    "df = df.sort_values(by=\"pe_ratio\")\n",
    "df = df.query('pe_ratio >= 0')\n",
    "df = df[:50].reset_index(drop=True)\n",
    "df.head()"
   ]
  },
  {
   "cell_type": "markdown",
   "metadata": {},
   "source": [
    "## Calculating the Number of Shares to Buy\n",
    "We now need to calculate the number of shares we need to buy."
   ]
  },
  {
   "cell_type": "code",
   "execution_count": 44,
   "metadata": {},
   "outputs": [
    {
     "output_type": "execute_result",
     "data": {
      "text/plain": [
       "  ticker  stock_price pe_ratio num_of_shares_to_buy\n",
       "0    NRG       36.790      2.1                  543\n",
       "1   NLOK       21.534     4.23                  928\n",
       "2    UNM       22.551     4.84                  886\n",
       "3    BIO      588.020      5.2                   34\n",
       "4    AIV        5.177      5.2                 3863"
      ],
      "text/html": "<div>\n<style scoped>\n    .dataframe tbody tr th:only-of-type {\n        vertical-align: middle;\n    }\n\n    .dataframe tbody tr th {\n        vertical-align: top;\n    }\n\n    .dataframe thead th {\n        text-align: right;\n    }\n</style>\n<table border=\"1\" class=\"dataframe\">\n  <thead>\n    <tr style=\"text-align: right;\">\n      <th></th>\n      <th>ticker</th>\n      <th>stock_price</th>\n      <th>pe_ratio</th>\n      <th>num_of_shares_to_buy</th>\n    </tr>\n  </thead>\n  <tbody>\n    <tr>\n      <th>0</th>\n      <td>NRG</td>\n      <td>36.790</td>\n      <td>2.1</td>\n      <td>543</td>\n    </tr>\n    <tr>\n      <th>1</th>\n      <td>NLOK</td>\n      <td>21.534</td>\n      <td>4.23</td>\n      <td>928</td>\n    </tr>\n    <tr>\n      <th>2</th>\n      <td>UNM</td>\n      <td>22.551</td>\n      <td>4.84</td>\n      <td>886</td>\n    </tr>\n    <tr>\n      <th>3</th>\n      <td>BIO</td>\n      <td>588.020</td>\n      <td>5.2</td>\n      <td>34</td>\n    </tr>\n    <tr>\n      <th>4</th>\n      <td>AIV</td>\n      <td>5.177</td>\n      <td>5.2</td>\n      <td>3863</td>\n    </tr>\n  </tbody>\n</table>\n</div>"
     },
     "metadata": {},
     "execution_count": 44
    }
   ],
   "source": [
    "portfolio_size = 1_000_000\n",
    "\n",
    "position_size = portfolio_size / len(df.index)\n",
    "\n",
    "for row in df.index:\n",
    "    df.loc[row, \"num_of_shares_to_buy\"] = math.floor(position_size/df.loc[row, \"stock_price\"])\n",
    "\n",
    "df.head()"
   ]
  },
  {
   "cell_type": "markdown",
   "metadata": {},
   "source": [
    "## Building a Better (and More Realistic) Value Strategy\n",
    "Every valuation metric has certain flaws.\n",
    "\n",
    "For example, the price-to-earnings ratio doesn't work well with stocks with negative earnings.\n",
    "\n",
    "Similarly, stocks that buyback their own shares are difficult to value using the price-to-book ratio.\n",
    "\n",
    "Investors typically use a `composite` basket of valuation metrics to build robust quantitative value strategies. In this section, we will filter for stocks with the lowest percentiles on the following metrics:\n",
    "\n",
    "* Price-to-earnings ratio\n",
    "* Price-to-book ratio\n",
    "* Price-to-sales ratio\n",
    "* Enterprise Value divided by Earnings Before Interest, Taxes, Depreciation, and Amortization (EV/EBITDA)\n",
    "* Enterprise Value divided by Gross Profit (EV/GP)\n",
    "\n",
    "Some of these metrics aren't provided directly by the IEX Cloud API, and must be computed after pulling raw data. We'll start by calculating each data point from scratch."
   ]
  },
  {
   "cell_type": "code",
   "execution_count": 62,
   "metadata": {},
   "outputs": [],
   "source": [
    "symbol = \"AAPL\"\n",
    "\n",
    "batch_api_url = f\"https://sandbox.iexapis.com/stable/stock/market/batch?symbols={symbol}&types=quote,advanced-stats&token={IEX_CLOUD_API_TOKEN}\" \n",
    "data = requests.get(batch_api_url)\n",
    "assert(data.status_code == 200)\n",
    "data = data.json()\n",
    "\n",
    "# Price-to-earnings ratio\n",
    "pe_ratio = data[symbol]['quote']['peRatio']\n",
    "\n",
    "# Price-to-book ratio\n",
    "pb_ratio = data[symbol]['advanced-stats']['priceToBook']\n",
    "\n",
    "# Price-to-sales ratio\n",
    "ps_ratio = data[symbol]['advanced-stats']['priceToSales']\n",
    "\n",
    "# Enterprise Value divided by Earnings Before Interest, Taxes, Depreciation, and Amortization (EV/EBITDA)\n",
    "ev_to_ebitda = data[symbol]['advanced-stats']['enterpriseValue'] / data[symbol]['advanced-stats']['EBITDA']\n",
    "\n",
    "# Enterprise Value divided by Gross Profit (EV/GP)\n",
    "ev_to_gross_profit = data[symbol]['advanced-stats']['enterpriseValue'] / data[symbol]['advanced-stats']['grossProfit']"
   ]
  },
  {
   "cell_type": "markdown",
   "metadata": {},
   "source": [
    "Let's move on to building our DataFrame. You'll notice that I use the abbreviation `rv` often. It stands for `robust value`, which is what we'll call this sophisticated strategy moving forward."
   ]
  },
  {
   "cell_type": "code",
   "execution_count": 82,
   "metadata": {},
   "outputs": [],
   "source": [
    "rv_cols = [\n",
    "    \"Ticker\",\n",
    "    \"stock_price\",\n",
    "    \"num_of_shares_to_buy\",\n",
    "    \"pe_ratio\",\n",
    "    \"pe_percentile\",\n",
    "    \"pb_ratio\",\n",
    "    \"pb_percentile\",\n",
    "    \"ps_ratio\",\n",
    "    \"ps_percentile\",\n",
    "    \"ev_in_mio\",\n",
    "    \"ev_ebitda_ratio\",\n",
    "    \"ev_ebitda_percentile\",\n",
    "    \"ev_gp_ratio\",\n",
    "    \"ev_gp_percentile\"\n",
    "]\n",
    "\n",
    "rv_df = pd.DataFrame(columns=rv_cols)\n",
    "\n",
    "for symbol_string in symbol_strings:\n",
    "    batch_api_url = f\"https://sandbox.iexapis.com/stable/stock/market/batch?symbols={symbol_string}&types=quote,advanced-stats&token={IEX_CLOUD_API_TOKEN}\" \n",
    "    data = requests.get(batch_api_url)\n",
    "    assert(data.status_code == 200)\n",
    "    data = data.json()\n",
    "    for symbol in symbol_string.split(\",\"):\n",
    "        ev = data[symbol]['advanced-stats']['enterpriseValue']\n",
    "        ebitda = data[symbol]['advanced-stats']['EBITDA']\n",
    "        gross_profit = data[symbol]['advanced-stats']['grossProfit']\n",
    "\n",
    "        try:\n",
    "            ev_to_ebitda = ev / ebitda\n",
    "        except TypeError:\n",
    "            ev_to_ebitda = pd.NA\n",
    "        try:\n",
    "            ev_to_gross_profit = ev / gross_profit\n",
    "        except TypeError:\n",
    "            ev_to_ebitda = pd.NA\n",
    "        try:\n",
    "            ev = ev / 1_000_000\n",
    "        except TypeError:\n",
    "            ev_to_ebitda = pd.NA\n",
    "\n",
    "        rv_df = rv_df.append(\n",
    "            pd.Series(\n",
    "                [\n",
    "                    symbol,\n",
    "                    data[symbol]['quote']['latestPrice'],\n",
    "                    pd.NA,\n",
    "                    data[symbol]['quote']['peRatio'],\n",
    "                    pd.NA,\n",
    "                    data[symbol]['advanced-stats']['priceToBook'],\n",
    "                    pd.NA,\n",
    "                    data[symbol]['advanced-stats']['priceToSales'],\n",
    "                    pd.NA,\n",
    "                    ev,\n",
    "                    ev_to_ebitda,\n",
    "                    pd.NA,\n",
    "                    ev_to_gross_profit,\n",
    "                    pd.NA\n",
    "                ],\n",
    "                index=rv_cols\n",
    "            ), ignore_index=True\n",
    "        )"
   ]
  },
  {
   "cell_type": "markdown",
   "metadata": {},
   "source": [
    "## Dealing With Missing Data in Our DataFrame\n",
    "\n",
    "Our DataFrame contains some missing data because all of the metrics we require are not available through the API we're using."
   ]
  },
  {
   "cell_type": "code",
   "execution_count": 96,
   "metadata": {},
   "outputs": [],
   "source": [
    "for col in rv_df.columns[1:]:\n",
    "    rv_df[col] = rv_df[col].fillna(rv_df[col].mean())"
   ]
  },
  {
   "cell_type": "markdown",
   "metadata": {},
   "source": [
    "Now, if we run the statement from earlier to print rows that contain missing data, nothing should be returned:"
   ]
  },
  {
   "cell_type": "markdown",
   "metadata": {},
   "source": [
    "## Calculating Value Percentiles\n",
    "\n",
    "We now need to calculate value score percentiles for every stock in the universe. More specifically, we need to calculate percentile scores for the following metrics for every stock:\n",
    "\n",
    "* Price-to-earnings ratio\n",
    "* Price-to-book ratio\n",
    "* Price-to-sales ratio\n",
    "* EV/EBITDA\n",
    "* EV/GP\n",
    "\n",
    "Here's how we'll do this:"
   ]
  },
  {
   "cell_type": "code",
   "execution_count": 125,
   "metadata": {},
   "outputs": [],
   "source": [
    "metrics = {\n",
    "    \"pe_ratio\": \"pe_percentile\", \n",
    "    \"pb_ratio\": \"pb_percentile\", \n",
    "    \"ps_ratio\": \"ps_percentile\",\n",
    "    \"ev_ebitda_ratio\": \"ev_ebitda_percentile\",\n",
    "    \"ev_gp_ratio\": \"ev_gp_percentile\"\n",
    "    }\n",
    "\n",
    "for metric in metrics.keys():\n",
    "    for row in rv_df.index:\n",
    "        rv_df.loc[row, metrics[metric]] = stats.percentileofscore(rv_df[metric], rv_df.loc[row, metric]) / 100"
   ]
  },
  {
   "cell_type": "markdown",
   "metadata": {},
   "source": [
    "## Calculating the RV Score\n",
    "We'll now calculate our RV Score (which stands for Robust Value), which is the value score that we'll use to filter for stocks in this investing strategy.\n",
    "\n",
    "The RV Score will be the arithmetic mean of the 4 percentile scores that we calculated in the last section.\n",
    "\n",
    "To calculate arithmetic mean, we will use the mean function from Python's built-in statistics module."
   ]
  },
  {
   "cell_type": "code",
   "execution_count": 109,
   "metadata": {
    "tags": []
   },
   "outputs": [
    {
     "output_type": "execute_result",
     "data": {
      "text/plain": [
       "    Ticker  stock_price  num_of_shares_to_buy  pe_ratio  pe_percentile  \\\n",
       "459    UNM       22.460                   NaN      4.80      15.445545   \n",
       "18     AIG       37.900                   NaN     -6.94      10.891089   \n",
       "1      AAL       15.940                   NaN     -1.14      14.257426   \n",
       "219    HFC       26.498                   NaN    -26.44       6.732673   \n",
       "304    MET       47.490                   NaN      7.97      16.435644   \n",
       "\n",
       "     pb_ratio  pb_percentile  ps_ratio  ps_percentile     ev_in_mio  \\\n",
       "459    0.4049       4.950495    0.3823       2.772277   4375.356695   \n",
       "18     0.5124       5.742574    0.7008       6.534653  32068.028323   \n",
       "1     -1.7100       4.554455    0.3863       2.970297  34377.374504   \n",
       "219    0.7500       7.722772    0.2895       1.584158   5698.482185   \n",
       "304    0.5807       5.940594    0.6232       5.346535  42583.468597   \n",
       "\n",
       "     ev_ebitda_ratio  ev_ebitda_percentile  ev_gp_ratio  ev_gp_percentile  \\\n",
       "459         2.359884              3.168317     0.350332          0.396040   \n",
       "18          4.068549              3.960396     0.697199          1.386139   \n",
       "1          -5.847348              2.772277     1.353229          5.346535   \n",
       "219         5.850122              5.940594     2.109559         11.089109   \n",
       "304         4.413881              4.158416     0.618449          1.188119   \n",
       "\n",
       "     rv_score  \n",
       "459  5.346535  \n",
       "18   5.702970  \n",
       "1    5.980198  \n",
       "219  6.613861  \n",
       "304  6.613861  "
      ],
      "text/html": "<div>\n<style scoped>\n    .dataframe tbody tr th:only-of-type {\n        vertical-align: middle;\n    }\n\n    .dataframe tbody tr th {\n        vertical-align: top;\n    }\n\n    .dataframe thead th {\n        text-align: right;\n    }\n</style>\n<table border=\"1\" class=\"dataframe\">\n  <thead>\n    <tr style=\"text-align: right;\">\n      <th></th>\n      <th>Ticker</th>\n      <th>stock_price</th>\n      <th>num_of_shares_to_buy</th>\n      <th>pe_ratio</th>\n      <th>pe_percentile</th>\n      <th>pb_ratio</th>\n      <th>pb_percentile</th>\n      <th>ps_ratio</th>\n      <th>ps_percentile</th>\n      <th>ev_in_mio</th>\n      <th>ev_ebitda_ratio</th>\n      <th>ev_ebitda_percentile</th>\n      <th>ev_gp_ratio</th>\n      <th>ev_gp_percentile</th>\n      <th>rv_score</th>\n    </tr>\n  </thead>\n  <tbody>\n    <tr>\n      <th>459</th>\n      <td>UNM</td>\n      <td>22.460</td>\n      <td>NaN</td>\n      <td>4.80</td>\n      <td>15.445545</td>\n      <td>0.4049</td>\n      <td>4.950495</td>\n      <td>0.3823</td>\n      <td>2.772277</td>\n      <td>4375.356695</td>\n      <td>2.359884</td>\n      <td>3.168317</td>\n      <td>0.350332</td>\n      <td>0.396040</td>\n      <td>5.346535</td>\n    </tr>\n    <tr>\n      <th>18</th>\n      <td>AIG</td>\n      <td>37.900</td>\n      <td>NaN</td>\n      <td>-6.94</td>\n      <td>10.891089</td>\n      <td>0.5124</td>\n      <td>5.742574</td>\n      <td>0.7008</td>\n      <td>6.534653</td>\n      <td>32068.028323</td>\n      <td>4.068549</td>\n      <td>3.960396</td>\n      <td>0.697199</td>\n      <td>1.386139</td>\n      <td>5.702970</td>\n    </tr>\n    <tr>\n      <th>1</th>\n      <td>AAL</td>\n      <td>15.940</td>\n      <td>NaN</td>\n      <td>-1.14</td>\n      <td>14.257426</td>\n      <td>-1.7100</td>\n      <td>4.554455</td>\n      <td>0.3863</td>\n      <td>2.970297</td>\n      <td>34377.374504</td>\n      <td>-5.847348</td>\n      <td>2.772277</td>\n      <td>1.353229</td>\n      <td>5.346535</td>\n      <td>5.980198</td>\n    </tr>\n    <tr>\n      <th>219</th>\n      <td>HFC</td>\n      <td>26.498</td>\n      <td>NaN</td>\n      <td>-26.44</td>\n      <td>6.732673</td>\n      <td>0.7500</td>\n      <td>7.722772</td>\n      <td>0.2895</td>\n      <td>1.584158</td>\n      <td>5698.482185</td>\n      <td>5.850122</td>\n      <td>5.940594</td>\n      <td>2.109559</td>\n      <td>11.089109</td>\n      <td>6.613861</td>\n    </tr>\n    <tr>\n      <th>304</th>\n      <td>MET</td>\n      <td>47.490</td>\n      <td>NaN</td>\n      <td>7.97</td>\n      <td>16.435644</td>\n      <td>0.5807</td>\n      <td>5.940594</td>\n      <td>0.6232</td>\n      <td>5.346535</td>\n      <td>42583.468597</td>\n      <td>4.413881</td>\n      <td>4.158416</td>\n      <td>0.618449</td>\n      <td>1.188119</td>\n      <td>6.613861</td>\n    </tr>\n  </tbody>\n</table>\n</div>"
     },
     "metadata": {},
     "execution_count": 109
    }
   ],
   "source": [
    "from statistics import mean\n",
    "\n",
    "for row in rv_df.index:\n",
    "    value_percentiles = [rv_df.loc[row, metrics[metric]] for metric in metrics.keys()]\n",
    "    rv_df.loc[row, \"rv_score\"] = mean(value_percentiles)\n",
    "\n",
    "rv_df = rv_df.sort_values(by=\"rv_score\", ascending=True)\n",
    "rv_df.head()"
   ]
  },
  {
   "cell_type": "markdown",
   "metadata": {},
   "source": [
    "## Selecting the 50 Best Value Stocks¶\n",
    "\n",
    "As before, we can identify the 50 best value stocks in our universe by sorting the DataFrame on the RV Score column and dropping all but the top 50 entries."
   ]
  },
  {
   "cell_type": "code",
   "execution_count": 111,
   "metadata": {},
   "outputs": [
    {
     "output_type": "execute_result",
     "data": {
      "text/plain": [
       "   Ticker  stock_price  num_of_shares_to_buy  pe_ratio  pe_percentile  \\\n",
       "0     UNM       22.460                   NaN      4.80      15.445545   \n",
       "1     AIG       37.900                   NaN     -6.94      10.891089   \n",
       "2     AAL       15.940                   NaN     -1.14      14.257426   \n",
       "3     HFC       26.498                   NaN    -26.44       6.732673   \n",
       "4     MET       47.490                   NaN      7.97      16.435644   \n",
       "5       F        8.980                   NaN    -17.22       8.316832   \n",
       "6     HIG       49.670                   NaN     10.48      18.811881   \n",
       "7     ALL      108.600                   NaN      7.46      16.237624   \n",
       "8      BA      223.390                   NaN    -28.38       6.534653   \n",
       "9     KSS       40.870                   NaN    -59.59       4.950495   \n",
       "10    LNC       50.300                   NaN     12.96      23.168317   \n",
       "11    PFG       50.390                   NaN     11.38      20.792079   \n",
       "12      L       45.961                   NaN    -11.46       9.306931   \n",
       "13    APA       14.818                   NaN     -0.70      14.851485   \n",
       "14    CVS       68.800                   NaN     11.37      20.594059   \n",
       "15    MRO        7.050                   NaN     -8.38       9.900990   \n",
       "16     LB       39.950                   NaN    -53.42       5.148515   \n",
       "17   VIAC       37.130                   NaN     11.61      21.386139   \n",
       "18    DXC       23.422                   NaN     -1.53      13.663366   \n",
       "19    TAP       46.090                   NaN    -61.53       4.356436   \n",
       "20     KR       32.906                   NaN      8.57      17.029703   \n",
       "21    PRU       78.370                   NaN   -189.20       2.178218   \n",
       "22    HPQ       25.326                   NaN     14.26      26.336634   \n",
       "23    HRB       16.215                   NaN     15.27      28.316832   \n",
       "24    AFL       45.570                   NaN     11.33      20.198020   \n",
       "25    OXY       18.088                   NaN     -1.08      14.455446   \n",
       "26      C       61.495                   NaN     12.09      21.980198   \n",
       "27    GPS       20.890                   NaN     -7.24      10.297030   \n",
       "28    VLO       57.000                   NaN  -2126.38       0.198020   \n",
       "29    AIZ      135.890                   NaN     20.50      40.594059   \n",
       "30    TRV      138.610                   NaN     15.83      29.900990   \n",
       "31   NWSA       18.420                   NaN    -10.81       9.702970   \n",
       "32     GM       43.258                   NaN     19.60      38.514851   \n",
       "33    HCA      169.940                   NaN     17.85      34.653465   \n",
       "34     BK       41.630                   NaN      9.26      18.019802   \n",
       "35    WRK       45.270                   NaN    -17.27       8.118812   \n",
       "36    EOG       50.122                   NaN    -95.83       3.168317   \n",
       "37   FANG       48.311                   NaN     -2.83      12.475248   \n",
       "38    DVN       15.698                   NaN     -1.84      13.465347   \n",
       "39    CVX       88.154                   NaN    -19.18       7.326733   \n",
       "40    AIV        5.312                   NaN      5.00      15.643564   \n",
       "41    CNC       60.160                   NaN     16.18      31.287129   \n",
       "42    UHS      137.960                   NaN     14.00      25.445545   \n",
       "43    CCL       21.040                   NaN     -2.03      13.069307   \n",
       "44  DISCA       29.290                   NaN     13.93      25.148515   \n",
       "45    STT       72.500                   NaN     11.62      21.584158   \n",
       "46     GS      263.400                   NaN     15.44      28.910891   \n",
       "47    IVZ       17.770                   NaN     16.52      31.881188   \n",
       "48   PBCT       13.350                   NaN     11.35      20.396040   \n",
       "49     RE      238.380                   NaN     14.00      25.445545   \n",
       "\n",
       "    pb_ratio  pb_percentile  ps_ratio  ps_percentile      ev_in_mio  \\\n",
       "0     0.4049       4.950495    0.3823       2.772277    4375.356695   \n",
       "1     0.5124       5.742574    0.7008       6.534653   32068.028323   \n",
       "2    -1.7100       4.554455    0.3863       2.970297   34377.374504   \n",
       "3     0.7500       7.722772    0.2895       1.584158    5698.482185   \n",
       "4     0.5807       5.940594    0.6232       5.346535   42583.468597   \n",
       "5     1.1500      13.168317    0.2728       1.188119   31109.958563   \n",
       "6     1.0106      10.891089    0.8561       9.108911   17071.858364   \n",
       "7     1.3200      17.326733    0.7492       7.128713   33771.289629   \n",
       "8   -10.8600       2.970297    2.0400      35.346535  162751.850775   \n",
       "9     1.2700      16.237624    0.3615       2.574257    8681.628048   \n",
       "10    0.4428       5.148515    0.5405       4.554455    9359.132307   \n",
       "11    0.8360       8.118812    0.8674       9.702970   13432.844531   \n",
       "12    0.7001       6.534653    0.8880      10.297030   11869.136143   \n",
       "13   -3.2700       4.356436    1.0400      14.455446   14329.762270   \n",
       "14    1.3300      17.821782    0.3371       2.178218  147130.521426   \n",
       "15    0.4547       5.346535    1.2600      20.198020   10195.037149   \n",
       "16   -6.9200       3.762376    0.9017      10.891089   14862.600296   \n",
       "17    1.5300      21.683168    0.6258       5.544554   38827.276875   \n",
       "18    1.3300      17.821782    0.3063       1.980198   12708.947739   \n",
       "19    0.7070       6.732673    0.9493      12.277228   17481.825103   \n",
       "20    2.4200      35.049505    0.1900       0.792079   36337.531881   \n",
       "21    0.4684       5.544554    0.5060       3.762376   29883.795268   \n",
       "22  -15.7100       2.376238    0.5491       4.752475   33690.009033   \n",
       "23  -10.3100       3.168317    0.8991      10.693069    4211.219726   \n",
       "24    1.0800      12.277228    1.3900      22.871287   31164.012152   \n",
       "25    1.5900      23.069307    0.8368       8.712871   52356.895015   \n",
       "26    0.7357       7.326733    1.4000      23.465347  123872.750698   \n",
       "27    3.2600      45.544554    0.5383       4.356436    7277.566544   \n",
       "28    1.1600      13.465347    0.2879       1.386139   34333.598733   \n",
       "29    1.4000      18.910891    0.7709       7.722772    8064.896125   \n",
       "30    1.2900      16.633663    1.1200      17.227723   35447.122886   \n",
       "31    1.4200      19.405941    1.2100      19.603960   10558.007003   \n",
       "32    1.3700      18.514851    0.5181       3.960396   52860.450822   \n",
       "33  -31.3900       1.386139    1.1000      16.435644   82763.453565   \n",
       "34    0.8886       8.514851    2.0000      34.554455   36478.452228   \n",
       "35    1.1200      12.673267    0.6840       6.138614   21622.654562   \n",
       "36    1.4300      19.702970    2.3400      39.801980   32246.724010   \n",
       "37    0.6656       6.336634    2.0600      35.841584   12863.607370   \n",
       "38    1.9300      27.920792    1.2800      20.792079    8899.576543   \n",
       "39    1.1900      14.554455    1.4000      23.465347  185477.905682   \n",
       "40    0.3753       4.752475    0.9247      11.287129    4999.564747   \n",
       "41    1.3200      17.326733    0.3407       2.376238   51354.733049   \n",
       "42    2.0300      29.504950    1.0400      14.455446   14645.505572   \n",
       "43    1.1400      12.871287    2.2000      37.326733   39456.223914   \n",
       "44    1.2600      15.940594    1.1600      17.920792   25729.747205   \n",
       "45    1.1000      12.475248    2.0000      34.554455   25300.069837   \n",
       "46    1.0700      12.079208    1.6500      27.722772   89949.417289   \n",
       "47    0.5821       6.138614    1.3000      21.386139   15783.275770   \n",
       "48    0.7220       6.930693    2.3800      40.198020    5372.341468   \n",
       "49    0.9854       9.702970    1.0200      13.465347    9520.847795   \n",
       "\n",
       "    ev_ebitda_ratio  ev_ebitda_percentile  ev_gp_ratio  ev_gp_percentile  \\\n",
       "0          2.359884              3.168317     0.350332          0.396040   \n",
       "1          4.068549              3.960396     0.697199          1.386139   \n",
       "2         -5.847348              2.772277     1.353229          5.346535   \n",
       "3          5.850122              5.940594     2.109559         11.089109   \n",
       "4          4.413881              4.158416     0.618449          1.188119   \n",
       "5          4.701256              4.752475     2.066405         10.693069   \n",
       "6          3.947536              3.762376     0.821951          1.980198   \n",
       "7          2.517101              3.366337     0.721574          1.584158   \n",
       "8        -29.827365              1.584158  -215.478515          0.198020   \n",
       "9          9.257418             18.613861     1.383459          5.742574   \n",
       "10         8.728861             15.247525     0.508448          0.792079   \n",
       "11         7.132188              8.910891     0.876035          2.574257   \n",
       "12        10.457062             23.762376     0.823498          2.376238   \n",
       "13         7.260626              9.108911     2.629671         14.059406   \n",
       "14         7.606814             10.099010     1.417811          6.138614   \n",
       "15         4.629294              4.356436     2.967048         17.623762   \n",
       "16         8.982311             16.633663     3.419257         21.188119   \n",
       "17         5.824688              5.544554     1.045363          3.564356   \n",
       "18         6.191511              6.930693     3.060636         18.613861   \n",
       "19         7.523504              9.702970     4.598550         28.514851   \n",
       "20         5.778301              5.346535     1.146980          4.356436   \n",
       "21        16.977291             53.069307     0.484818          0.594059   \n",
       "22         8.055862             13.069307     3.136438         19.603960   \n",
       "23         5.474965              5.148515     3.068355         18.811881   \n",
       "24         5.855023              6.138614     1.359415          5.544554   \n",
       "25         5.826890              5.742574     2.715687         15.247525   \n",
       "26         6.485357              7.524752     1.609662          7.128713   \n",
       "27        -9.670888              2.574257     1.519862          6.534653   \n",
       "28        11.290881             29.108911     4.134054         25.940594   \n",
       "29         1.831283              2.970297     0.770591          1.782178   \n",
       "30         4.661832              4.554455     1.094421          3.762376   \n",
       "31        10.341773             22.970297     1.146574          4.158416   \n",
       "32         3.754531              3.564356     2.267988         12.178218   \n",
       "33         9.110682             17.623762     1.621497          7.326733   \n",
       "34         6.552339              7.722772     1.953176          9.900990   \n",
       "35         8.008931             12.475248     6.563931         42.376238   \n",
       "36         5.893105              6.336634     2.599400         13.861386   \n",
       "37         5.453329              4.950495     3.728994         23.564356   \n",
       "38         7.918714             11.881188     1.893182          9.504950   \n",
       "39         9.005792             17.029703     3.521482         21.584158   \n",
       "40         9.071991             17.227723     5.455607         35.643564   \n",
       "41        12.268038             32.673267     0.518184          0.990099   \n",
       "42         7.909420             11.683168     1.282335          5.148515   \n",
       "43       -16.317977              1.782178     3.679681         22.376238   \n",
       "44         6.029601              6.732673     3.708387         23.267327   \n",
       "45         7.668340             10.297030     2.033672         10.297030   \n",
       "46         8.034876             12.673267     1.746980          8.712871   \n",
       "47         9.499637             19.405941     2.428067         13.069307   \n",
       "48         7.758866             11.485149     2.415850         12.871287   \n",
       "49        13.909401             41.188119     1.020941          3.366337   \n",
       "\n",
       "     rv_score  \n",
       "0    5.346535  \n",
       "1    5.702970  \n",
       "2    5.980198  \n",
       "3    6.613861  \n",
       "4    6.613861  \n",
       "5    7.623762  \n",
       "6    8.910891  \n",
       "7    9.128713  \n",
       "8    9.326733  \n",
       "9    9.623762  \n",
       "10   9.782178  \n",
       "11  10.019802  \n",
       "12  10.455446  \n",
       "13  11.366337  \n",
       "14  11.366337  \n",
       "15  11.485149  \n",
       "16  11.524752  \n",
       "17  11.544554  \n",
       "18  11.801980  \n",
       "19  12.316832  \n",
       "20  12.514851  \n",
       "21  13.029703  \n",
       "22  13.227723  \n",
       "23  13.227723  \n",
       "24  13.405941  \n",
       "25  13.445545  \n",
       "26  13.485149  \n",
       "27  13.861386  \n",
       "28  14.019802  \n",
       "29  14.396040  \n",
       "30  14.415842  \n",
       "31  15.168317  \n",
       "32  15.346535  \n",
       "33  15.485149  \n",
       "34  15.742574  \n",
       "35  16.356436  \n",
       "36  16.574257  \n",
       "37  16.633663  \n",
       "38  16.712871  \n",
       "39  16.792079  \n",
       "40  16.910891  \n",
       "41  16.930693  \n",
       "42  17.247525  \n",
       "43  17.485149  \n",
       "44  17.801980  \n",
       "45  17.841584  \n",
       "46  18.019802  \n",
       "47  18.376238  \n",
       "48  18.376238  \n",
       "49  18.633663  "
      ],
      "text/html": "<div>\n<style scoped>\n    .dataframe tbody tr th:only-of-type {\n        vertical-align: middle;\n    }\n\n    .dataframe tbody tr th {\n        vertical-align: top;\n    }\n\n    .dataframe thead th {\n        text-align: right;\n    }\n</style>\n<table border=\"1\" class=\"dataframe\">\n  <thead>\n    <tr style=\"text-align: right;\">\n      <th></th>\n      <th>Ticker</th>\n      <th>stock_price</th>\n      <th>num_of_shares_to_buy</th>\n      <th>pe_ratio</th>\n      <th>pe_percentile</th>\n      <th>pb_ratio</th>\n      <th>pb_percentile</th>\n      <th>ps_ratio</th>\n      <th>ps_percentile</th>\n      <th>ev_in_mio</th>\n      <th>ev_ebitda_ratio</th>\n      <th>ev_ebitda_percentile</th>\n      <th>ev_gp_ratio</th>\n      <th>ev_gp_percentile</th>\n      <th>rv_score</th>\n    </tr>\n  </thead>\n  <tbody>\n    <tr>\n      <th>0</th>\n      <td>UNM</td>\n      <td>22.460</td>\n      <td>NaN</td>\n      <td>4.80</td>\n      <td>15.445545</td>\n      <td>0.4049</td>\n      <td>4.950495</td>\n      <td>0.3823</td>\n      <td>2.772277</td>\n      <td>4375.356695</td>\n      <td>2.359884</td>\n      <td>3.168317</td>\n      <td>0.350332</td>\n      <td>0.396040</td>\n      <td>5.346535</td>\n    </tr>\n    <tr>\n      <th>1</th>\n      <td>AIG</td>\n      <td>37.900</td>\n      <td>NaN</td>\n      <td>-6.94</td>\n      <td>10.891089</td>\n      <td>0.5124</td>\n      <td>5.742574</td>\n      <td>0.7008</td>\n      <td>6.534653</td>\n      <td>32068.028323</td>\n      <td>4.068549</td>\n      <td>3.960396</td>\n      <td>0.697199</td>\n      <td>1.386139</td>\n      <td>5.702970</td>\n    </tr>\n    <tr>\n      <th>2</th>\n      <td>AAL</td>\n      <td>15.940</td>\n      <td>NaN</td>\n      <td>-1.14</td>\n      <td>14.257426</td>\n      <td>-1.7100</td>\n      <td>4.554455</td>\n      <td>0.3863</td>\n      <td>2.970297</td>\n      <td>34377.374504</td>\n      <td>-5.847348</td>\n      <td>2.772277</td>\n      <td>1.353229</td>\n      <td>5.346535</td>\n      <td>5.980198</td>\n    </tr>\n    <tr>\n      <th>3</th>\n      <td>HFC</td>\n      <td>26.498</td>\n      <td>NaN</td>\n      <td>-26.44</td>\n      <td>6.732673</td>\n      <td>0.7500</td>\n      <td>7.722772</td>\n      <td>0.2895</td>\n      <td>1.584158</td>\n      <td>5698.482185</td>\n      <td>5.850122</td>\n      <td>5.940594</td>\n      <td>2.109559</td>\n      <td>11.089109</td>\n      <td>6.613861</td>\n    </tr>\n    <tr>\n      <th>4</th>\n      <td>MET</td>\n      <td>47.490</td>\n      <td>NaN</td>\n      <td>7.97</td>\n      <td>16.435644</td>\n      <td>0.5807</td>\n      <td>5.940594</td>\n      <td>0.6232</td>\n      <td>5.346535</td>\n      <td>42583.468597</td>\n      <td>4.413881</td>\n      <td>4.158416</td>\n      <td>0.618449</td>\n      <td>1.188119</td>\n      <td>6.613861</td>\n    </tr>\n    <tr>\n      <th>5</th>\n      <td>F</td>\n      <td>8.980</td>\n      <td>NaN</td>\n      <td>-17.22</td>\n      <td>8.316832</td>\n      <td>1.1500</td>\n      <td>13.168317</td>\n      <td>0.2728</td>\n      <td>1.188119</td>\n      <td>31109.958563</td>\n      <td>4.701256</td>\n      <td>4.752475</td>\n      <td>2.066405</td>\n      <td>10.693069</td>\n      <td>7.623762</td>\n    </tr>\n    <tr>\n      <th>6</th>\n      <td>HIG</td>\n      <td>49.670</td>\n      <td>NaN</td>\n      <td>10.48</td>\n      <td>18.811881</td>\n      <td>1.0106</td>\n      <td>10.891089</td>\n      <td>0.8561</td>\n      <td>9.108911</td>\n      <td>17071.858364</td>\n      <td>3.947536</td>\n      <td>3.762376</td>\n      <td>0.821951</td>\n      <td>1.980198</td>\n      <td>8.910891</td>\n    </tr>\n    <tr>\n      <th>7</th>\n      <td>ALL</td>\n      <td>108.600</td>\n      <td>NaN</td>\n      <td>7.46</td>\n      <td>16.237624</td>\n      <td>1.3200</td>\n      <td>17.326733</td>\n      <td>0.7492</td>\n      <td>7.128713</td>\n      <td>33771.289629</td>\n      <td>2.517101</td>\n      <td>3.366337</td>\n      <td>0.721574</td>\n      <td>1.584158</td>\n      <td>9.128713</td>\n    </tr>\n    <tr>\n      <th>8</th>\n      <td>BA</td>\n      <td>223.390</td>\n      <td>NaN</td>\n      <td>-28.38</td>\n      <td>6.534653</td>\n      <td>-10.8600</td>\n      <td>2.970297</td>\n      <td>2.0400</td>\n      <td>35.346535</td>\n      <td>162751.850775</td>\n      <td>-29.827365</td>\n      <td>1.584158</td>\n      <td>-215.478515</td>\n      <td>0.198020</td>\n      <td>9.326733</td>\n    </tr>\n    <tr>\n      <th>9</th>\n      <td>KSS</td>\n      <td>40.870</td>\n      <td>NaN</td>\n      <td>-59.59</td>\n      <td>4.950495</td>\n      <td>1.2700</td>\n      <td>16.237624</td>\n      <td>0.3615</td>\n      <td>2.574257</td>\n      <td>8681.628048</td>\n      <td>9.257418</td>\n      <td>18.613861</td>\n      <td>1.383459</td>\n      <td>5.742574</td>\n      <td>9.623762</td>\n    </tr>\n    <tr>\n      <th>10</th>\n      <td>LNC</td>\n      <td>50.300</td>\n      <td>NaN</td>\n      <td>12.96</td>\n      <td>23.168317</td>\n      <td>0.4428</td>\n      <td>5.148515</td>\n      <td>0.5405</td>\n      <td>4.554455</td>\n      <td>9359.132307</td>\n      <td>8.728861</td>\n      <td>15.247525</td>\n      <td>0.508448</td>\n      <td>0.792079</td>\n      <td>9.782178</td>\n    </tr>\n    <tr>\n      <th>11</th>\n      <td>PFG</td>\n      <td>50.390</td>\n      <td>NaN</td>\n      <td>11.38</td>\n      <td>20.792079</td>\n      <td>0.8360</td>\n      <td>8.118812</td>\n      <td>0.8674</td>\n      <td>9.702970</td>\n      <td>13432.844531</td>\n      <td>7.132188</td>\n      <td>8.910891</td>\n      <td>0.876035</td>\n      <td>2.574257</td>\n      <td>10.019802</td>\n    </tr>\n    <tr>\n      <th>12</th>\n      <td>L</td>\n      <td>45.961</td>\n      <td>NaN</td>\n      <td>-11.46</td>\n      <td>9.306931</td>\n      <td>0.7001</td>\n      <td>6.534653</td>\n      <td>0.8880</td>\n      <td>10.297030</td>\n      <td>11869.136143</td>\n      <td>10.457062</td>\n      <td>23.762376</td>\n      <td>0.823498</td>\n      <td>2.376238</td>\n      <td>10.455446</td>\n    </tr>\n    <tr>\n      <th>13</th>\n      <td>APA</td>\n      <td>14.818</td>\n      <td>NaN</td>\n      <td>-0.70</td>\n      <td>14.851485</td>\n      <td>-3.2700</td>\n      <td>4.356436</td>\n      <td>1.0400</td>\n      <td>14.455446</td>\n      <td>14329.762270</td>\n      <td>7.260626</td>\n      <td>9.108911</td>\n      <td>2.629671</td>\n      <td>14.059406</td>\n      <td>11.366337</td>\n    </tr>\n    <tr>\n      <th>14</th>\n      <td>CVS</td>\n      <td>68.800</td>\n      <td>NaN</td>\n      <td>11.37</td>\n      <td>20.594059</td>\n      <td>1.3300</td>\n      <td>17.821782</td>\n      <td>0.3371</td>\n      <td>2.178218</td>\n      <td>147130.521426</td>\n      <td>7.606814</td>\n      <td>10.099010</td>\n      <td>1.417811</td>\n      <td>6.138614</td>\n      <td>11.366337</td>\n    </tr>\n    <tr>\n      <th>15</th>\n      <td>MRO</td>\n      <td>7.050</td>\n      <td>NaN</td>\n      <td>-8.38</td>\n      <td>9.900990</td>\n      <td>0.4547</td>\n      <td>5.346535</td>\n      <td>1.2600</td>\n      <td>20.198020</td>\n      <td>10195.037149</td>\n      <td>4.629294</td>\n      <td>4.356436</td>\n      <td>2.967048</td>\n      <td>17.623762</td>\n      <td>11.485149</td>\n    </tr>\n    <tr>\n      <th>16</th>\n      <td>LB</td>\n      <td>39.950</td>\n      <td>NaN</td>\n      <td>-53.42</td>\n      <td>5.148515</td>\n      <td>-6.9200</td>\n      <td>3.762376</td>\n      <td>0.9017</td>\n      <td>10.891089</td>\n      <td>14862.600296</td>\n      <td>8.982311</td>\n      <td>16.633663</td>\n      <td>3.419257</td>\n      <td>21.188119</td>\n      <td>11.524752</td>\n    </tr>\n    <tr>\n      <th>17</th>\n      <td>VIAC</td>\n      <td>37.130</td>\n      <td>NaN</td>\n      <td>11.61</td>\n      <td>21.386139</td>\n      <td>1.5300</td>\n      <td>21.683168</td>\n      <td>0.6258</td>\n      <td>5.544554</td>\n      <td>38827.276875</td>\n      <td>5.824688</td>\n      <td>5.544554</td>\n      <td>1.045363</td>\n      <td>3.564356</td>\n      <td>11.544554</td>\n    </tr>\n    <tr>\n      <th>18</th>\n      <td>DXC</td>\n      <td>23.422</td>\n      <td>NaN</td>\n      <td>-1.53</td>\n      <td>13.663366</td>\n      <td>1.3300</td>\n      <td>17.821782</td>\n      <td>0.3063</td>\n      <td>1.980198</td>\n      <td>12708.947739</td>\n      <td>6.191511</td>\n      <td>6.930693</td>\n      <td>3.060636</td>\n      <td>18.613861</td>\n      <td>11.801980</td>\n    </tr>\n    <tr>\n      <th>19</th>\n      <td>TAP</td>\n      <td>46.090</td>\n      <td>NaN</td>\n      <td>-61.53</td>\n      <td>4.356436</td>\n      <td>0.7070</td>\n      <td>6.732673</td>\n      <td>0.9493</td>\n      <td>12.277228</td>\n      <td>17481.825103</td>\n      <td>7.523504</td>\n      <td>9.702970</td>\n      <td>4.598550</td>\n      <td>28.514851</td>\n      <td>12.316832</td>\n    </tr>\n    <tr>\n      <th>20</th>\n      <td>KR</td>\n      <td>32.906</td>\n      <td>NaN</td>\n      <td>8.57</td>\n      <td>17.029703</td>\n      <td>2.4200</td>\n      <td>35.049505</td>\n      <td>0.1900</td>\n      <td>0.792079</td>\n      <td>36337.531881</td>\n      <td>5.778301</td>\n      <td>5.346535</td>\n      <td>1.146980</td>\n      <td>4.356436</td>\n      <td>12.514851</td>\n    </tr>\n    <tr>\n      <th>21</th>\n      <td>PRU</td>\n      <td>78.370</td>\n      <td>NaN</td>\n      <td>-189.20</td>\n      <td>2.178218</td>\n      <td>0.4684</td>\n      <td>5.544554</td>\n      <td>0.5060</td>\n      <td>3.762376</td>\n      <td>29883.795268</td>\n      <td>16.977291</td>\n      <td>53.069307</td>\n      <td>0.484818</td>\n      <td>0.594059</td>\n      <td>13.029703</td>\n    </tr>\n    <tr>\n      <th>22</th>\n      <td>HPQ</td>\n      <td>25.326</td>\n      <td>NaN</td>\n      <td>14.26</td>\n      <td>26.336634</td>\n      <td>-15.7100</td>\n      <td>2.376238</td>\n      <td>0.5491</td>\n      <td>4.752475</td>\n      <td>33690.009033</td>\n      <td>8.055862</td>\n      <td>13.069307</td>\n      <td>3.136438</td>\n      <td>19.603960</td>\n      <td>13.227723</td>\n    </tr>\n    <tr>\n      <th>23</th>\n      <td>HRB</td>\n      <td>16.215</td>\n      <td>NaN</td>\n      <td>15.27</td>\n      <td>28.316832</td>\n      <td>-10.3100</td>\n      <td>3.168317</td>\n      <td>0.8991</td>\n      <td>10.693069</td>\n      <td>4211.219726</td>\n      <td>5.474965</td>\n      <td>5.148515</td>\n      <td>3.068355</td>\n      <td>18.811881</td>\n      <td>13.227723</td>\n    </tr>\n    <tr>\n      <th>24</th>\n      <td>AFL</td>\n      <td>45.570</td>\n      <td>NaN</td>\n      <td>11.33</td>\n      <td>20.198020</td>\n      <td>1.0800</td>\n      <td>12.277228</td>\n      <td>1.3900</td>\n      <td>22.871287</td>\n      <td>31164.012152</td>\n      <td>5.855023</td>\n      <td>6.138614</td>\n      <td>1.359415</td>\n      <td>5.544554</td>\n      <td>13.405941</td>\n    </tr>\n    <tr>\n      <th>25</th>\n      <td>OXY</td>\n      <td>18.088</td>\n      <td>NaN</td>\n      <td>-1.08</td>\n      <td>14.455446</td>\n      <td>1.5900</td>\n      <td>23.069307</td>\n      <td>0.8368</td>\n      <td>8.712871</td>\n      <td>52356.895015</td>\n      <td>5.826890</td>\n      <td>5.742574</td>\n      <td>2.715687</td>\n      <td>15.247525</td>\n      <td>13.445545</td>\n    </tr>\n    <tr>\n      <th>26</th>\n      <td>C</td>\n      <td>61.495</td>\n      <td>NaN</td>\n      <td>12.09</td>\n      <td>21.980198</td>\n      <td>0.7357</td>\n      <td>7.326733</td>\n      <td>1.4000</td>\n      <td>23.465347</td>\n      <td>123872.750698</td>\n      <td>6.485357</td>\n      <td>7.524752</td>\n      <td>1.609662</td>\n      <td>7.128713</td>\n      <td>13.485149</td>\n    </tr>\n    <tr>\n      <th>27</th>\n      <td>GPS</td>\n      <td>20.890</td>\n      <td>NaN</td>\n      <td>-7.24</td>\n      <td>10.297030</td>\n      <td>3.2600</td>\n      <td>45.544554</td>\n      <td>0.5383</td>\n      <td>4.356436</td>\n      <td>7277.566544</td>\n      <td>-9.670888</td>\n      <td>2.574257</td>\n      <td>1.519862</td>\n      <td>6.534653</td>\n      <td>13.861386</td>\n    </tr>\n    <tr>\n      <th>28</th>\n      <td>VLO</td>\n      <td>57.000</td>\n      <td>NaN</td>\n      <td>-2126.38</td>\n      <td>0.198020</td>\n      <td>1.1600</td>\n      <td>13.465347</td>\n      <td>0.2879</td>\n      <td>1.386139</td>\n      <td>34333.598733</td>\n      <td>11.290881</td>\n      <td>29.108911</td>\n      <td>4.134054</td>\n      <td>25.940594</td>\n      <td>14.019802</td>\n    </tr>\n    <tr>\n      <th>29</th>\n      <td>AIZ</td>\n      <td>135.890</td>\n      <td>NaN</td>\n      <td>20.50</td>\n      <td>40.594059</td>\n      <td>1.4000</td>\n      <td>18.910891</td>\n      <td>0.7709</td>\n      <td>7.722772</td>\n      <td>8064.896125</td>\n      <td>1.831283</td>\n      <td>2.970297</td>\n      <td>0.770591</td>\n      <td>1.782178</td>\n      <td>14.396040</td>\n    </tr>\n    <tr>\n      <th>30</th>\n      <td>TRV</td>\n      <td>138.610</td>\n      <td>NaN</td>\n      <td>15.83</td>\n      <td>29.900990</td>\n      <td>1.2900</td>\n      <td>16.633663</td>\n      <td>1.1200</td>\n      <td>17.227723</td>\n      <td>35447.122886</td>\n      <td>4.661832</td>\n      <td>4.554455</td>\n      <td>1.094421</td>\n      <td>3.762376</td>\n      <td>14.415842</td>\n    </tr>\n    <tr>\n      <th>31</th>\n      <td>NWSA</td>\n      <td>18.420</td>\n      <td>NaN</td>\n      <td>-10.81</td>\n      <td>9.702970</td>\n      <td>1.4200</td>\n      <td>19.405941</td>\n      <td>1.2100</td>\n      <td>19.603960</td>\n      <td>10558.007003</td>\n      <td>10.341773</td>\n      <td>22.970297</td>\n      <td>1.146574</td>\n      <td>4.158416</td>\n      <td>15.168317</td>\n    </tr>\n    <tr>\n      <th>32</th>\n      <td>GM</td>\n      <td>43.258</td>\n      <td>NaN</td>\n      <td>19.60</td>\n      <td>38.514851</td>\n      <td>1.3700</td>\n      <td>18.514851</td>\n      <td>0.5181</td>\n      <td>3.960396</td>\n      <td>52860.450822</td>\n      <td>3.754531</td>\n      <td>3.564356</td>\n      <td>2.267988</td>\n      <td>12.178218</td>\n      <td>15.346535</td>\n    </tr>\n    <tr>\n      <th>33</th>\n      <td>HCA</td>\n      <td>169.940</td>\n      <td>NaN</td>\n      <td>17.85</td>\n      <td>34.653465</td>\n      <td>-31.3900</td>\n      <td>1.386139</td>\n      <td>1.1000</td>\n      <td>16.435644</td>\n      <td>82763.453565</td>\n      <td>9.110682</td>\n      <td>17.623762</td>\n      <td>1.621497</td>\n      <td>7.326733</td>\n      <td>15.485149</td>\n    </tr>\n    <tr>\n      <th>34</th>\n      <td>BK</td>\n      <td>41.630</td>\n      <td>NaN</td>\n      <td>9.26</td>\n      <td>18.019802</td>\n      <td>0.8886</td>\n      <td>8.514851</td>\n      <td>2.0000</td>\n      <td>34.554455</td>\n      <td>36478.452228</td>\n      <td>6.552339</td>\n      <td>7.722772</td>\n      <td>1.953176</td>\n      <td>9.900990</td>\n      <td>15.742574</td>\n    </tr>\n    <tr>\n      <th>35</th>\n      <td>WRK</td>\n      <td>45.270</td>\n      <td>NaN</td>\n      <td>-17.27</td>\n      <td>8.118812</td>\n      <td>1.1200</td>\n      <td>12.673267</td>\n      <td>0.6840</td>\n      <td>6.138614</td>\n      <td>21622.654562</td>\n      <td>8.008931</td>\n      <td>12.475248</td>\n      <td>6.563931</td>\n      <td>42.376238</td>\n      <td>16.356436</td>\n    </tr>\n    <tr>\n      <th>36</th>\n      <td>EOG</td>\n      <td>50.122</td>\n      <td>NaN</td>\n      <td>-95.83</td>\n      <td>3.168317</td>\n      <td>1.4300</td>\n      <td>19.702970</td>\n      <td>2.3400</td>\n      <td>39.801980</td>\n      <td>32246.724010</td>\n      <td>5.893105</td>\n      <td>6.336634</td>\n      <td>2.599400</td>\n      <td>13.861386</td>\n      <td>16.574257</td>\n    </tr>\n    <tr>\n      <th>37</th>\n      <td>FANG</td>\n      <td>48.311</td>\n      <td>NaN</td>\n      <td>-2.83</td>\n      <td>12.475248</td>\n      <td>0.6656</td>\n      <td>6.336634</td>\n      <td>2.0600</td>\n      <td>35.841584</td>\n      <td>12863.607370</td>\n      <td>5.453329</td>\n      <td>4.950495</td>\n      <td>3.728994</td>\n      <td>23.564356</td>\n      <td>16.633663</td>\n    </tr>\n    <tr>\n      <th>38</th>\n      <td>DVN</td>\n      <td>15.698</td>\n      <td>NaN</td>\n      <td>-1.84</td>\n      <td>13.465347</td>\n      <td>1.9300</td>\n      <td>27.920792</td>\n      <td>1.2800</td>\n      <td>20.792079</td>\n      <td>8899.576543</td>\n      <td>7.918714</td>\n      <td>11.881188</td>\n      <td>1.893182</td>\n      <td>9.504950</td>\n      <td>16.712871</td>\n    </tr>\n    <tr>\n      <th>39</th>\n      <td>CVX</td>\n      <td>88.154</td>\n      <td>NaN</td>\n      <td>-19.18</td>\n      <td>7.326733</td>\n      <td>1.1900</td>\n      <td>14.554455</td>\n      <td>1.4000</td>\n      <td>23.465347</td>\n      <td>185477.905682</td>\n      <td>9.005792</td>\n      <td>17.029703</td>\n      <td>3.521482</td>\n      <td>21.584158</td>\n      <td>16.792079</td>\n    </tr>\n    <tr>\n      <th>40</th>\n      <td>AIV</td>\n      <td>5.312</td>\n      <td>NaN</td>\n      <td>5.00</td>\n      <td>15.643564</td>\n      <td>0.3753</td>\n      <td>4.752475</td>\n      <td>0.9247</td>\n      <td>11.287129</td>\n      <td>4999.564747</td>\n      <td>9.071991</td>\n      <td>17.227723</td>\n      <td>5.455607</td>\n      <td>35.643564</td>\n      <td>16.910891</td>\n    </tr>\n    <tr>\n      <th>41</th>\n      <td>CNC</td>\n      <td>60.160</td>\n      <td>NaN</td>\n      <td>16.18</td>\n      <td>31.287129</td>\n      <td>1.3200</td>\n      <td>17.326733</td>\n      <td>0.3407</td>\n      <td>2.376238</td>\n      <td>51354.733049</td>\n      <td>12.268038</td>\n      <td>32.673267</td>\n      <td>0.518184</td>\n      <td>0.990099</td>\n      <td>16.930693</td>\n    </tr>\n    <tr>\n      <th>42</th>\n      <td>UHS</td>\n      <td>137.960</td>\n      <td>NaN</td>\n      <td>14.00</td>\n      <td>25.445545</td>\n      <td>2.0300</td>\n      <td>29.504950</td>\n      <td>1.0400</td>\n      <td>14.455446</td>\n      <td>14645.505572</td>\n      <td>7.909420</td>\n      <td>11.683168</td>\n      <td>1.282335</td>\n      <td>5.148515</td>\n      <td>17.247525</td>\n    </tr>\n    <tr>\n      <th>43</th>\n      <td>CCL</td>\n      <td>21.040</td>\n      <td>NaN</td>\n      <td>-2.03</td>\n      <td>13.069307</td>\n      <td>1.1400</td>\n      <td>12.871287</td>\n      <td>2.2000</td>\n      <td>37.326733</td>\n      <td>39456.223914</td>\n      <td>-16.317977</td>\n      <td>1.782178</td>\n      <td>3.679681</td>\n      <td>22.376238</td>\n      <td>17.485149</td>\n    </tr>\n    <tr>\n      <th>44</th>\n      <td>DISCA</td>\n      <td>29.290</td>\n      <td>NaN</td>\n      <td>13.93</td>\n      <td>25.148515</td>\n      <td>1.2600</td>\n      <td>15.940594</td>\n      <td>1.1600</td>\n      <td>17.920792</td>\n      <td>25729.747205</td>\n      <td>6.029601</td>\n      <td>6.732673</td>\n      <td>3.708387</td>\n      <td>23.267327</td>\n      <td>17.801980</td>\n    </tr>\n    <tr>\n      <th>45</th>\n      <td>STT</td>\n      <td>72.500</td>\n      <td>NaN</td>\n      <td>11.62</td>\n      <td>21.584158</td>\n      <td>1.1000</td>\n      <td>12.475248</td>\n      <td>2.0000</td>\n      <td>34.554455</td>\n      <td>25300.069837</td>\n      <td>7.668340</td>\n      <td>10.297030</td>\n      <td>2.033672</td>\n      <td>10.297030</td>\n      <td>17.841584</td>\n    </tr>\n    <tr>\n      <th>46</th>\n      <td>GS</td>\n      <td>263.400</td>\n      <td>NaN</td>\n      <td>15.44</td>\n      <td>28.910891</td>\n      <td>1.0700</td>\n      <td>12.079208</td>\n      <td>1.6500</td>\n      <td>27.722772</td>\n      <td>89949.417289</td>\n      <td>8.034876</td>\n      <td>12.673267</td>\n      <td>1.746980</td>\n      <td>8.712871</td>\n      <td>18.019802</td>\n    </tr>\n    <tr>\n      <th>47</th>\n      <td>IVZ</td>\n      <td>17.770</td>\n      <td>NaN</td>\n      <td>16.52</td>\n      <td>31.881188</td>\n      <td>0.5821</td>\n      <td>6.138614</td>\n      <td>1.3000</td>\n      <td>21.386139</td>\n      <td>15783.275770</td>\n      <td>9.499637</td>\n      <td>19.405941</td>\n      <td>2.428067</td>\n      <td>13.069307</td>\n      <td>18.376238</td>\n    </tr>\n    <tr>\n      <th>48</th>\n      <td>PBCT</td>\n      <td>13.350</td>\n      <td>NaN</td>\n      <td>11.35</td>\n      <td>20.396040</td>\n      <td>0.7220</td>\n      <td>6.930693</td>\n      <td>2.3800</td>\n      <td>40.198020</td>\n      <td>5372.341468</td>\n      <td>7.758866</td>\n      <td>11.485149</td>\n      <td>2.415850</td>\n      <td>12.871287</td>\n      <td>18.376238</td>\n    </tr>\n    <tr>\n      <th>49</th>\n      <td>RE</td>\n      <td>238.380</td>\n      <td>NaN</td>\n      <td>14.00</td>\n      <td>25.445545</td>\n      <td>0.9854</td>\n      <td>9.702970</td>\n      <td>1.0200</td>\n      <td>13.465347</td>\n      <td>9520.847795</td>\n      <td>13.909401</td>\n      <td>41.188119</td>\n      <td>1.020941</td>\n      <td>3.366337</td>\n      <td>18.633663</td>\n    </tr>\n  </tbody>\n</table>\n</div>"
     },
     "metadata": {},
     "execution_count": 111
    }
   ],
   "source": [
    "rv_df = rv_df[:50].reset_index(drop=True)\n",
    "rv_df"
   ]
  },
  {
   "cell_type": "markdown",
   "metadata": {},
   "source": [
    "## Calculating the Number of Shares to Buy\n",
    "We'll use the `portfolio_input` function that we created earlier to accept our portfolio size. Then we will use similar logic in a for loop to calculate the number of shares to buy for each stock in our investment universe."
   ]
  },
  {
   "cell_type": "code",
   "execution_count": 116,
   "metadata": {},
   "outputs": [
    {
     "output_type": "execute_result",
     "data": {
      "text/plain": [
       "  Ticker  stock_price  num_of_shares_to_buy  pe_ratio  pe_percentile  \\\n",
       "0    UNM       22.460                 890.0      4.80      15.445545   \n",
       "1    AIG       37.900                 527.0     -6.94      10.891089   \n",
       "2    AAL       15.940                1254.0     -1.14      14.257426   \n",
       "3    HFC       26.498                 754.0    -26.44       6.732673   \n",
       "4    MET       47.490                 421.0      7.97      16.435644   \n",
       "5      F        8.980                2227.0    -17.22       8.316832   \n",
       "6    HIG       49.670                 402.0     10.48      18.811881   \n",
       "7    ALL      108.600                 184.0      7.46      16.237624   \n",
       "8     BA      223.390                  89.0    -28.38       6.534653   \n",
       "9    KSS       40.870                 489.0    -59.59       4.950495   \n",
       "\n",
       "   pb_ratio  pb_percentile  ps_ratio  ps_percentile      ev_in_mio  \\\n",
       "0    0.4049       4.950495    0.3823       2.772277    4375.356695   \n",
       "1    0.5124       5.742574    0.7008       6.534653   32068.028323   \n",
       "2   -1.7100       4.554455    0.3863       2.970297   34377.374504   \n",
       "3    0.7500       7.722772    0.2895       1.584158    5698.482185   \n",
       "4    0.5807       5.940594    0.6232       5.346535   42583.468597   \n",
       "5    1.1500      13.168317    0.2728       1.188119   31109.958563   \n",
       "6    1.0106      10.891089    0.8561       9.108911   17071.858364   \n",
       "7    1.3200      17.326733    0.7492       7.128713   33771.289629   \n",
       "8  -10.8600       2.970297    2.0400      35.346535  162751.850775   \n",
       "9    1.2700      16.237624    0.3615       2.574257    8681.628048   \n",
       "\n",
       "   ev_ebitda_ratio  ev_ebitda_percentile  ev_gp_ratio  ev_gp_percentile  \\\n",
       "0         2.359884              3.168317     0.350332          0.396040   \n",
       "1         4.068549              3.960396     0.697199          1.386139   \n",
       "2        -5.847348              2.772277     1.353229          5.346535   \n",
       "3         5.850122              5.940594     2.109559         11.089109   \n",
       "4         4.413881              4.158416     0.618449          1.188119   \n",
       "5         4.701256              4.752475     2.066405         10.693069   \n",
       "6         3.947536              3.762376     0.821951          1.980198   \n",
       "7         2.517101              3.366337     0.721574          1.584158   \n",
       "8       -29.827365              1.584158  -215.478515          0.198020   \n",
       "9         9.257418             18.613861     1.383459          5.742574   \n",
       "\n",
       "   rv_score  \n",
       "0  5.346535  \n",
       "1  5.702970  \n",
       "2  5.980198  \n",
       "3  6.613861  \n",
       "4  6.613861  \n",
       "5  7.623762  \n",
       "6  8.910891  \n",
       "7  9.128713  \n",
       "8  9.326733  \n",
       "9  9.623762  "
      ],
      "text/html": "<div>\n<style scoped>\n    .dataframe tbody tr th:only-of-type {\n        vertical-align: middle;\n    }\n\n    .dataframe tbody tr th {\n        vertical-align: top;\n    }\n\n    .dataframe thead th {\n        text-align: right;\n    }\n</style>\n<table border=\"1\" class=\"dataframe\">\n  <thead>\n    <tr style=\"text-align: right;\">\n      <th></th>\n      <th>Ticker</th>\n      <th>stock_price</th>\n      <th>num_of_shares_to_buy</th>\n      <th>pe_ratio</th>\n      <th>pe_percentile</th>\n      <th>pb_ratio</th>\n      <th>pb_percentile</th>\n      <th>ps_ratio</th>\n      <th>ps_percentile</th>\n      <th>ev_in_mio</th>\n      <th>ev_ebitda_ratio</th>\n      <th>ev_ebitda_percentile</th>\n      <th>ev_gp_ratio</th>\n      <th>ev_gp_percentile</th>\n      <th>rv_score</th>\n    </tr>\n  </thead>\n  <tbody>\n    <tr>\n      <th>0</th>\n      <td>UNM</td>\n      <td>22.460</td>\n      <td>890.0</td>\n      <td>4.80</td>\n      <td>15.445545</td>\n      <td>0.4049</td>\n      <td>4.950495</td>\n      <td>0.3823</td>\n      <td>2.772277</td>\n      <td>4375.356695</td>\n      <td>2.359884</td>\n      <td>3.168317</td>\n      <td>0.350332</td>\n      <td>0.396040</td>\n      <td>5.346535</td>\n    </tr>\n    <tr>\n      <th>1</th>\n      <td>AIG</td>\n      <td>37.900</td>\n      <td>527.0</td>\n      <td>-6.94</td>\n      <td>10.891089</td>\n      <td>0.5124</td>\n      <td>5.742574</td>\n      <td>0.7008</td>\n      <td>6.534653</td>\n      <td>32068.028323</td>\n      <td>4.068549</td>\n      <td>3.960396</td>\n      <td>0.697199</td>\n      <td>1.386139</td>\n      <td>5.702970</td>\n    </tr>\n    <tr>\n      <th>2</th>\n      <td>AAL</td>\n      <td>15.940</td>\n      <td>1254.0</td>\n      <td>-1.14</td>\n      <td>14.257426</td>\n      <td>-1.7100</td>\n      <td>4.554455</td>\n      <td>0.3863</td>\n      <td>2.970297</td>\n      <td>34377.374504</td>\n      <td>-5.847348</td>\n      <td>2.772277</td>\n      <td>1.353229</td>\n      <td>5.346535</td>\n      <td>5.980198</td>\n    </tr>\n    <tr>\n      <th>3</th>\n      <td>HFC</td>\n      <td>26.498</td>\n      <td>754.0</td>\n      <td>-26.44</td>\n      <td>6.732673</td>\n      <td>0.7500</td>\n      <td>7.722772</td>\n      <td>0.2895</td>\n      <td>1.584158</td>\n      <td>5698.482185</td>\n      <td>5.850122</td>\n      <td>5.940594</td>\n      <td>2.109559</td>\n      <td>11.089109</td>\n      <td>6.613861</td>\n    </tr>\n    <tr>\n      <th>4</th>\n      <td>MET</td>\n      <td>47.490</td>\n      <td>421.0</td>\n      <td>7.97</td>\n      <td>16.435644</td>\n      <td>0.5807</td>\n      <td>5.940594</td>\n      <td>0.6232</td>\n      <td>5.346535</td>\n      <td>42583.468597</td>\n      <td>4.413881</td>\n      <td>4.158416</td>\n      <td>0.618449</td>\n      <td>1.188119</td>\n      <td>6.613861</td>\n    </tr>\n    <tr>\n      <th>5</th>\n      <td>F</td>\n      <td>8.980</td>\n      <td>2227.0</td>\n      <td>-17.22</td>\n      <td>8.316832</td>\n      <td>1.1500</td>\n      <td>13.168317</td>\n      <td>0.2728</td>\n      <td>1.188119</td>\n      <td>31109.958563</td>\n      <td>4.701256</td>\n      <td>4.752475</td>\n      <td>2.066405</td>\n      <td>10.693069</td>\n      <td>7.623762</td>\n    </tr>\n    <tr>\n      <th>6</th>\n      <td>HIG</td>\n      <td>49.670</td>\n      <td>402.0</td>\n      <td>10.48</td>\n      <td>18.811881</td>\n      <td>1.0106</td>\n      <td>10.891089</td>\n      <td>0.8561</td>\n      <td>9.108911</td>\n      <td>17071.858364</td>\n      <td>3.947536</td>\n      <td>3.762376</td>\n      <td>0.821951</td>\n      <td>1.980198</td>\n      <td>8.910891</td>\n    </tr>\n    <tr>\n      <th>7</th>\n      <td>ALL</td>\n      <td>108.600</td>\n      <td>184.0</td>\n      <td>7.46</td>\n      <td>16.237624</td>\n      <td>1.3200</td>\n      <td>17.326733</td>\n      <td>0.7492</td>\n      <td>7.128713</td>\n      <td>33771.289629</td>\n      <td>2.517101</td>\n      <td>3.366337</td>\n      <td>0.721574</td>\n      <td>1.584158</td>\n      <td>9.128713</td>\n    </tr>\n    <tr>\n      <th>8</th>\n      <td>BA</td>\n      <td>223.390</td>\n      <td>89.0</td>\n      <td>-28.38</td>\n      <td>6.534653</td>\n      <td>-10.8600</td>\n      <td>2.970297</td>\n      <td>2.0400</td>\n      <td>35.346535</td>\n      <td>162751.850775</td>\n      <td>-29.827365</td>\n      <td>1.584158</td>\n      <td>-215.478515</td>\n      <td>0.198020</td>\n      <td>9.326733</td>\n    </tr>\n    <tr>\n      <th>9</th>\n      <td>KSS</td>\n      <td>40.870</td>\n      <td>489.0</td>\n      <td>-59.59</td>\n      <td>4.950495</td>\n      <td>1.2700</td>\n      <td>16.237624</td>\n      <td>0.3615</td>\n      <td>2.574257</td>\n      <td>8681.628048</td>\n      <td>9.257418</td>\n      <td>18.613861</td>\n      <td>1.383459</td>\n      <td>5.742574</td>\n      <td>9.623762</td>\n    </tr>\n  </tbody>\n</table>\n</div>"
     },
     "metadata": {},
     "execution_count": 116
    }
   ],
   "source": [
    "portfolio_size = 1_000_000\n",
    "position_size = portfolio_size / len(rv_df.index)\n",
    "\n",
    "for row in rv_df.index:\n",
    "    rv_df.loc[row, \"num_of_shares_to_buy\"] = math.floor(position_size / rv_df.loc[row, \"stock_price\"])\n",
    "\n",
    "rv_df.head(10)"
   ]
  },
  {
   "cell_type": "markdown",
   "metadata": {},
   "source": [
    "## Formatting Our Excel Output\n",
    "\n",
    "We will be using the XlsxWriter library for Python to create nicely-formatted Excel files.\n",
    "\n",
    "XlsxWriter is an excellent package and offers tons of customization. However, the tradeoff for this is that the library can seem very complicated to new users. Accordingly, this section will be fairly long because I want to do a good job of explaining how XlsxWriter works."
   ]
  },
  {
   "cell_type": "code",
   "execution_count": 130,
   "metadata": {},
   "outputs": [],
   "source": [
    "writer = pd.ExcelWriter(\"value_strategy.xlsx\", engine=\"xlsxwriter\")\n",
    "rv_df.to_excel(writer, sheet_name=\"Value Strategy\", index=False)"
   ]
  },
  {
   "cell_type": "markdown",
   "metadata": {},
   "source": [
    "## Creating the Formats We'll Need For Our .xlsx File\n",
    "You'll recall from our first project that formats include colors, fonts, and also symbols like % and $. We'll need four main formats for our Excel document:\n",
    "\n",
    "* String format for tickers\n",
    "* \\$XX.XX format for stock prices\n",
    "* \\$XX,XXX format for market capitalization\n",
    "* Integer format for the number of shares to purchase\n",
    "* Float formats with 1 decimal for each valuation metric\n",
    "\n",
    "Since we already built some formats in past sections of this course, I've included them below for you. Run this code cell before proceeding."
   ]
  },
  {
   "cell_type": "code",
   "execution_count": 131,
   "metadata": {},
   "outputs": [],
   "source": [
    "background_color = '#0a0a23'\n",
    "font_color = '#ffffff'\n",
    "\n",
    "string_template = writer.book.add_format(\n",
    "        {\n",
    "            'font_color': font_color,\n",
    "            'bg_color': background_color,\n",
    "            'border': 1\n",
    "        }\n",
    "    )\n",
    "\n",
    "euro_template = writer.book.add_format(\n",
    "        {\n",
    "            'num_format':'0.00 €',\n",
    "            'font_color': font_color,\n",
    "            'bg_color': background_color,\n",
    "            'border': 1\n",
    "        }\n",
    "    )\n",
    "\n",
    "integer_template = writer.book.add_format(\n",
    "        {\n",
    "            'num_format':'0',\n",
    "            'font_color': font_color,\n",
    "            'bg_color': background_color,\n",
    "            'border': 1\n",
    "        }\n",
    "    )\n",
    "\n",
    "float_template = writer.book.add_format(\n",
    "        {\n",
    "            'num_format':'0.0',\n",
    "            'font_color': font_color,\n",
    "            'bg_color': background_color,\n",
    "            'border': 1\n",
    "        }\n",
    "    )\n",
    "\n",
    "percent_template = writer.book.add_format(\n",
    "        {\n",
    "            'num_format':'0.0%',\n",
    "            'font_color': font_color,\n",
    "            'bg_color': background_color,\n",
    "            'border': 1\n",
    "        }\n",
    "    )"
   ]
  },
  {
   "cell_type": "code",
   "execution_count": 133,
   "metadata": {},
   "outputs": [],
   "source": [
    "column_formats = {\n",
    "    \"A\": [\"Ticker\", string_template],\n",
    "    \"B\": [\"stock_price\", euro_template],\n",
    "    \"C\": [\"num_of_shares_to_buy\", integer_template],\n",
    "    \"D\": [\"pe_ratio\", float_template],\n",
    "    \"E\": [\"pe_percentile\", percent_template],\n",
    "    \"F\": [\"pb_ratio\", float_template],\n",
    "    \"G\": [\"pb_percentile\", percent_template],\n",
    "    \"H\": [\"ps_ratio\", float_template],\n",
    "    \"I\": [\"ps_percentile\", percent_template],\n",
    "    \"J\": [\"ev_in_mio\", float_template],\n",
    "    \"K\": [\"ev_ebitda_ratio\", float_template],\n",
    "    \"L\": [\"ev_ebitda_percentile\", percent_template],\n",
    "    \"M\": [\"ev_gp_ratio\", float_template],\n",
    "    \"N\": [\"ev_gp_percentile\", percent_template]\n",
    "    }\n",
    "\n",
    "for col in column_formats.keys():\n",
    "    writer.sheets[\"Value Strategy\"].set_column(f\"{col}:{col}\", 25, column_formats[col][1])\n",
    "    writer.sheets[\"Value Strategy\"].write(f\"{col}1\", column_formats[col][0], column_formats[col][1])\n",
    "\n",
    "writer.save()"
   ]
  },
  {
   "cell_type": "code",
   "execution_count": null,
   "metadata": {},
   "outputs": [],
   "source": []
  }
 ],
 "metadata": {
  "kernelspec": {
   "display_name": "Python 3",
   "language": "python",
   "name": "python3"
  },
  "language_info": {
   "codemirror_mode": {
    "name": "ipython",
    "version": 3
   },
   "file_extension": ".py",
   "mimetype": "text/x-python",
   "name": "python",
   "nbconvert_exporter": "python",
   "pygments_lexer": "ipython3",
   "version": "3.9.1-final"
  }
 },
 "nbformat": 4,
 "nbformat_minor": 4
}